{
 "cells": [
  {
   "cell_type": "code",
   "execution_count": 2,
   "metadata": {},
   "outputs": [],
   "source": [
    "import pandas as pd\n",
    "import numpy as np"
   ]
  },
  {
   "cell_type": "code",
   "execution_count": 1,
   "metadata": {},
   "outputs": [],
   "source": [
    "# df = pd.read_csv(r'/home/uia72388/Share_A/New Data/MYDATA.csv', index_col=0)\n",
    "# df.head()"
   ]
  },
  {
   "cell_type": "code",
   "execution_count": 4,
   "metadata": {},
   "outputs": [
    {
     "data": {
      "text/plain": [
       "39"
      ]
     },
     "execution_count": 4,
     "metadata": {},
     "output_type": "execute_result"
    }
   ],
   "source": [
    "vneed=[]\n",
    "for i in df.columns:\n",
    "    if (df[i].isnull().sum()==0):\n",
    "        vneed.append(i)\n",
    "    else:\n",
    "        continue\n",
    "len(vneed)        "
   ]
  },
  {
   "cell_type": "code",
   "execution_count": 2,
   "metadata": {},
   "outputs": [],
   "source": [
    "# df1= df.loc[:, vneed]\n",
    "# for i, x in enumerate(df1.columns):\n",
    "#     print(i, x)"
   ]
  },
  {
   "cell_type": "code",
   "execution_count": 3,
   "metadata": {},
   "outputs": [],
   "source": [
    "# df1['box0.classval'].value_counts()"
   ]
  },
  {
   "cell_type": "code",
   "execution_count": 4,
   "metadata": {},
   "outputs": [],
   "source": [
    "# df1['box0.sign_class.'].head()"
   ]
  },
  {
   "cell_type": "code",
   "execution_count": 8,
   "metadata": {},
   "outputs": [
    {
     "data": {
      "text/plain": [
       "0    102728\n",
       "6     36114\n",
       "2     16281\n",
       "5     15314\n",
       "4     12932\n",
       "1      5228\n",
       "3      4376\n",
       "Name: box0.classval, dtype: int64"
      ]
     },
     "execution_count": 8,
     "metadata": {},
     "output_type": "execute_result"
    }
   ],
   "source": [
    "df1['box0.classval'].value_counts()"
   ]
  },
  {
   "cell_type": "code",
   "execution_count": 9,
   "metadata": {},
   "outputs": [],
   "source": [
    "df1['box0.classvalnew'] = df1['box0.classval'].copy()"
   ]
  },
  {
   "cell_type": "code",
   "execution_count": 10,
   "metadata": {},
   "outputs": [
    {
     "name": "stderr",
     "output_type": "stream",
     "text": [
      "/home/uia72388/anaconda3/lib/python3.6/site-packages/ipykernel_launcher.py:2: SettingWithCopyWarning: \n",
      "A value is trying to be set on a copy of a slice from a DataFrame\n",
      "\n",
      "See the caveats in the documentation: http://pandas.pydata.org/pandas-docs/stable/indexing.html#indexing-view-versus-copy\n",
      "  \n",
      "/home/uia72388/anaconda3/lib/python3.6/site-packages/ipykernel_launcher.py:3: SettingWithCopyWarning: \n",
      "A value is trying to be set on a copy of a slice from a DataFrame\n",
      "\n",
      "See the caveats in the documentation: http://pandas.pydata.org/pandas-docs/stable/indexing.html#indexing-view-versus-copy\n",
      "  This is separate from the ipykernel package so we can avoid doing imports until\n",
      "/home/uia72388/anaconda3/lib/python3.6/site-packages/ipykernel_launcher.py:4: SettingWithCopyWarning: \n",
      "A value is trying to be set on a copy of a slice from a DataFrame\n",
      "\n",
      "See the caveats in the documentation: http://pandas.pydata.org/pandas-docs/stable/indexing.html#indexing-view-versus-copy\n",
      "  after removing the cwd from sys.path.\n",
      "/home/uia72388/anaconda3/lib/python3.6/site-packages/ipykernel_launcher.py:5: SettingWithCopyWarning: \n",
      "A value is trying to be set on a copy of a slice from a DataFrame\n",
      "\n",
      "See the caveats in the documentation: http://pandas.pydata.org/pandas-docs/stable/indexing.html#indexing-view-versus-copy\n",
      "  \"\"\"\n",
      "/home/uia72388/anaconda3/lib/python3.6/site-packages/ipykernel_launcher.py:6: SettingWithCopyWarning: \n",
      "A value is trying to be set on a copy of a slice from a DataFrame\n",
      "\n",
      "See the caveats in the documentation: http://pandas.pydata.org/pandas-docs/stable/indexing.html#indexing-view-versus-copy\n",
      "  \n",
      "/home/uia72388/anaconda3/lib/python3.6/site-packages/ipykernel_launcher.py:7: SettingWithCopyWarning: \n",
      "A value is trying to be set on a copy of a slice from a DataFrame\n",
      "\n",
      "See the caveats in the documentation: http://pandas.pydata.org/pandas-docs/stable/indexing.html#indexing-view-versus-copy\n",
      "  import sys\n",
      "/home/uia72388/anaconda3/lib/python3.6/site-packages/ipykernel_launcher.py:8: SettingWithCopyWarning: \n",
      "A value is trying to be set on a copy of a slice from a DataFrame\n",
      "\n",
      "See the caveats in the documentation: http://pandas.pydata.org/pandas-docs/stable/indexing.html#indexing-view-versus-copy\n",
      "  \n"
     ]
    }
   ],
   "source": [
    "# do this by making dict mapping or df[df['box0.classval']==0] or df1['box0.classvalnew'].loc[df1['box0.classval'] ==0] = 1\n",
    "df1['box0.classvalnew'][np.where(df1['box0.classval']==0)[0]] =1\n",
    "df1['box0.classvalnew'][np.where(df1['box0.classval']==1)[0]] =2\n",
    "df1['box0.classvalnew'][np.where(df1['box0.classval']==2)[0]] =3\n",
    "df1['box0.classvalnew'][np.where(df1['box0.classval']==3)[0]] =4\n",
    "df1['box0.classvalnew'][np.where(df1['box0.classval']==4)[0]] =5\n",
    "df1['box0.classvalnew'][np.where(df1['box0.classval']==5)[0]] =6\n",
    "df1['box0.classvalnew'][np.where(df1['box0.classval']==6)[0]] =7"
   ]
  },
  {
   "cell_type": "code",
   "execution_count": 11,
   "metadata": {},
   "outputs": [
    {
     "data": {
      "text/plain": [
       "1    102728\n",
       "7     36114\n",
       "3     16281\n",
       "6     15314\n",
       "5     12932\n",
       "2      5228\n",
       "4      4376\n",
       "Name: box0.classvalnew, dtype: int64"
      ]
     },
     "execution_count": 11,
     "metadata": {},
     "output_type": "execute_result"
    }
   ],
   "source": [
    "df1['box0.classvalnew'].value_counts()"
   ]
  },
  {
   "cell_type": "code",
   "execution_count": 12,
   "metadata": {},
   "outputs": [],
   "source": [
    "# 0    102728\n",
    "# 6     36114\n",
    "# 2     16281\n",
    "# 5     15314\n",
    "# 4     12932\n",
    "# 1      5228\n",
    "# 3      4376"
   ]
  },
  {
   "cell_type": "code",
   "execution_count": 13,
   "metadata": {},
   "outputs": [
    {
     "data": {
      "text/plain": [
       "0    1\n",
       "1    1\n",
       "2    1\n",
       "3    1\n",
       "4    1\n",
       "Name: box0.classvalnew, dtype: int64"
      ]
     },
     "execution_count": 13,
     "metadata": {},
     "output_type": "execute_result"
    }
   ],
   "source": [
    "df1['box0.classvalnew'].head()"
   ]
  },
  {
   "cell_type": "code",
   "execution_count": 10,
   "metadata": {},
   "outputs": [],
   "source": [
    "# for i, x in enumerate(df1.columns):\n",
    "#     print(i, x)"
   ]
  },
  {
   "cell_type": "code",
   "execution_count": 9,
   "metadata": {},
   "outputs": [],
   "source": [
    "# # df.columns[[1,2,5]]\n",
    "# # cols=[1,2,4,5]\n",
    "# data= df1.drop(df1.columns[[0,3,6,12,13,14,31,39]], axis=1)\n",
    "# data.head()"
   ]
  },
  {
   "cell_type": "code",
   "execution_count": 16,
   "metadata": {},
   "outputs": [],
   "source": [
    "X= data.values\n",
    "y = df1['box0.classvalnew'].values"
   ]
  },
  {
   "cell_type": "code",
   "execution_count": 17,
   "metadata": {},
   "outputs": [
    {
     "data": {
      "text/plain": [
       "((192973, 32), (192973,))"
      ]
     },
     "execution_count": 17,
     "metadata": {},
     "output_type": "execute_result"
    }
   ],
   "source": [
    "X.shape, y.shape"
   ]
  },
  {
   "cell_type": "code",
   "execution_count": 18,
   "metadata": {},
   "outputs": [
    {
     "data": {
      "text/plain": [
       "(array([1, 2, 3, 4, 5, 6, 7]), 7)"
      ]
     },
     "execution_count": 18,
     "metadata": {},
     "output_type": "execute_result"
    }
   ],
   "source": [
    "np.unique(y) , len(np.unique(y))"
   ]
  },
  {
   "cell_type": "code",
   "execution_count": 19,
   "metadata": {},
   "outputs": [],
   "source": [
    "import matplotlib.pyplot as plt"
   ]
  },
  {
   "cell_type": "code",
   "execution_count": 20,
   "metadata": {},
   "outputs": [],
   "source": [
    "from sklearn.decomposition import PCA as sklearnPCA\n",
    "\n",
    "sklearn_pca = sklearnPCA(n_components=2)\n",
    "X_pca = sklearn_pca.fit_transform(X)\n",
    "\n",
    "def plot_pca():\n",
    "\n",
    "    ax = plt.subplot(111)\n",
    "\n",
    "    for label in range(1, 8):\n",
    "        plt.scatter(x=X_pca[:,0][y == label],\n",
    "                y=X_pca[:,1][y == label],\n",
    "                alpha=0.5,\n",
    "                #label=newdict[label]\n",
    "                )\n",
    "\n",
    "    plt.xlabel('PC1')\n",
    "    plt.ylabel('PC2')\n",
    "\n",
    "    #leg = plt.legend(loc='upper right', fancybox=True)\n",
    "    #leg.get_frame().set_alpha(0.5)\n",
    "    #plt.title('PCA: Iris projection onto the first 2 principal components')\n",
    "\n",
    "    # hide axis ticks\n",
    "    plt.tick_params(axis=\"both\", which=\"both\", bottom=\"off\", top=\"off\",  \n",
    "            labelbottom=\"on\", left=\"off\", right=\"off\", labelleft=\"on\")\n",
    "\n",
    "    # remove axis spines\n",
    "    ax.spines[\"top\"].set_visible(False)  \n",
    "    ax.spines[\"right\"].set_visible(False)\n",
    "    ax.spines[\"bottom\"].set_visible(False)\n",
    "    ax.spines[\"left\"].set_visible(False)    \n",
    "\n",
    "    plt.tight_layout\n",
    "    plt.grid()\n",
    "\n",
    "    plt.show()"
   ]
  },
  {
   "cell_type": "code",
   "execution_count": 21,
   "metadata": {},
   "outputs": [
    {
     "name": "stderr",
     "output_type": "stream",
     "text": [
      "/home/uia72388/anaconda3/lib/python3.6/site-packages/sklearn/discriminant_analysis.py:388: UserWarning: Variables are collinear.\n",
      "  warnings.warn(\"Variables are collinear.\")\n"
     ]
    }
   ],
   "source": [
    "from sklearn.discriminant_analysis import LinearDiscriminantAnalysis as LDA\n",
    "\n",
    "# LDA\n",
    "sklearn_lda = LDA(n_components=2)\n",
    "X_lda_sklearn = sklearn_lda.fit_transform(X, y)\n",
    "\n",
    "def plot_scikit_lda(X, title):\n",
    "\n",
    "    ax = plt.subplot(111)\n",
    "    for label in range(1,8):\n",
    "        plt.scatter(x=X[:,0][y == label],\n",
    "                    y=X[:,1][y == label] * -1, # flip the figure\n",
    "                    alpha=0.5)\n",
    "                    #label=newdict[label])\n",
    "\n",
    "    plt.xlabel('LD1')\n",
    "    plt.ylabel('LD2')\n",
    "\n",
    "    #leg = plt.legend(loc='upper right', fancybox=True)\n",
    "    #leg.get_frame().set_alpha(0.5)\n",
    "    plt.title(title)\n",
    "\n",
    "    # hide axis ticks\n",
    "    plt.tick_params(axis=\"both\", which=\"both\", bottom=\"off\", top=\"off\",  \n",
    "            labelbottom=\"on\", left=\"off\", right=\"off\", labelleft=\"on\")\n",
    "\n",
    "    # remove axis spines\n",
    "    ax.spines[\"top\"].set_visible(False)  \n",
    "    ax.spines[\"right\"].set_visible(False)\n",
    "    ax.spines[\"bottom\"].set_visible(False)\n",
    "    ax.spines[\"left\"].set_visible(False)    \n",
    "\n",
    "    plt.grid()\n",
    "    plt.tight_layout\n",
    "    plt.show()"
   ]
  },
  {
   "cell_type": "code",
   "execution_count": 22,
   "metadata": {},
   "outputs": [
    {
     "name": "stderr",
     "output_type": "stream",
     "text": [
      "/home/uia72388/anaconda3/lib/python3.6/site-packages/matplotlib/cbook/deprecation.py:107: MatplotlibDeprecationWarning: Passing one of 'on', 'true', 'off', 'false' as a boolean is deprecated; use an actual boolean (True/False) instead.\n",
      "  warnings.warn(message, mplDeprecation, stacklevel=1)\n"
     ]
    },
    {
     "data": {
      "image/png": "[encoded data removed]",
      "text/plain": [
       "<Figure size 432x288 with 1 Axes>"
      ]
     },
     "metadata": {},
     "output_type": "display_data"
    }
   ],
   "source": [
    "plot_pca()"
   ]
  },
  {
   "cell_type": "code",
   "execution_count": 23,
   "metadata": {},
   "outputs": [
    {
     "name": "stderr",
     "output_type": "stream",
     "text": [
      "/home/uia72388/anaconda3/lib/python3.6/site-packages/matplotlib/cbook/deprecation.py:107: MatplotlibDeprecationWarning: Passing one of 'on', 'true', 'off', 'false' as a boolean is deprecated; use an actual boolean (True/False) instead.\n",
      "  warnings.warn(message, mplDeprecation, stacklevel=1)\n"
     ]
    },
    {
     "data": {
      "image/png": "[encoded data removed]",
      "text/plain": [
       "<Figure size 432x288 with 1 Axes>"
      ]
     },
     "metadata": {},
     "output_type": "display_data"
    }
   ],
   "source": [
    "plot_scikit_lda(X_lda_sklearn, title= 'lda')"
   ]
  },
  {
   "cell_type": "code",
   "execution_count": 24,
   "metadata": {},
   "outputs": [],
   "source": [
    "import pandas as pd\n",
    "import pylab as pl\n",
    "from sklearn import datasets\n",
    "from sklearn.decomposition import PCA\n",
    "\n",
    "# load dataset\n",
    "# iris = datasets.load_iris()\n",
    "# df = pd.DataFrame(iris.data, columns=iris.feature_names)\n",
    "\n"
   ]
  },
  {
   "cell_type": "code",
   "execution_count": 25,
   "metadata": {},
   "outputs": [],
   "source": [
    "# normalize data\n",
    "from sklearn import preprocessing\n",
    "data_scaled = pd.DataFrame(preprocessing.scale(data),columns = data.columns) \n",
    "\n",
    "# PCA\n",
    "pca = PCA(n_components=2)\n",
    "pca.fit_transform(data_scaled)\n",
    "\n",
    "# Dump components relations with features:\n",
    "dfnew  =pd.DataFrame(pca.components_,columns=data.columns,index = ['PC-1','PC-2'])"
   ]
  },
  {
   "cell_type": "code",
   "execution_count": 8,
   "metadata": {},
   "outputs": [],
   "source": [
    "# dfnew"
   ]
  },
  {
   "cell_type": "code",
   "execution_count": 27,
   "metadata": {},
   "outputs": [],
   "source": [
    "#np.where(df1['box0.area']==0.031181)"
   ]
  },
  {
   "cell_type": "code",
   "execution_count": 28,
   "metadata": {},
   "outputs": [
    {
     "data": {
      "text/plain": [
       "array([[ 0.03118095,  0.01612597,  0.00730797,  0.02285152,  0.0393811 ,\n",
       "        -0.02314098, -0.02018007, -0.25572681, -0.2682648 ,  0.00187989,\n",
       "        -0.39811075,  0.39551466,  0.39811075, -0.12480279,  0.39811075,\n",
       "         0.00637763, -0.03671128,  0.01430933,  0.16770914,  0.01789011,\n",
       "        -0.09910585, -0.07526144, -0.08069502,  0.00567427, -0.05611526,\n",
       "         0.32901857,  0.06319582,  0.06789109, -0.05442566,  0.10988263,\n",
       "         0.01157501,  0.15363461],\n",
       "       [ 0.51310824,  0.02532298, -0.04114552,  0.51204961,  0.52317003,\n",
       "         0.08911908,  0.12425091, -0.27703253, -0.12068004, -0.01245408,\n",
       "         0.08777963, -0.08870674, -0.08777963, -0.09286278, -0.08777963,\n",
       "         0.00156227,  0.02210422, -0.00220645, -0.00937552,  0.00994181,\n",
       "        -0.10432559, -0.09090872, -0.02805832,  0.02639117, -0.0631695 ,\n",
       "        -0.06836259,  0.03207588,  0.03215042,  0.02424857, -0.06800964,\n",
       "        -0.01835102, -0.08024046]])"
      ]
     },
     "execution_count": 28,
     "metadata": {},
     "output_type": "execute_result"
    }
   ],
   "source": [
    "pca.components_"
   ]
  },
  {
   "cell_type": "code",
   "execution_count": 29,
   "metadata": {},
   "outputs": [
    {
     "data": {
      "text/plain": [
       "(2, 32)"
      ]
     },
     "execution_count": 29,
     "metadata": {},
     "output_type": "execute_result"
    }
   ],
   "source": [
    "pca.components_.shape"
   ]
  },
  {
   "cell_type": "code",
   "execution_count": 7,
   "metadata": {},
   "outputs": [],
   "source": [
    "# dfnew.abs().sum(axis=0)"
   ]
  },
  {
   "cell_type": "code",
   "execution_count": 33,
   "metadata": {},
   "outputs": [],
   "source": [
    "#pcs means eigenvectors. find greatest eigen values. "
   ]
  },
  {
   "cell_type": "code",
   "execution_count": 34,
   "metadata": {},
   "outputs": [],
   "source": [
    "#fit_transform n=2\n",
    "#pca.transform(X)[:, :ncomp] , pca.transform(X)[:, :ncomp].shape\n",
    "# ncomp = 2\n",
    "# Xhat = np.dot(pca.transform(X)[:, :ncomp], pca.components_[:ncomp, :])\n",
    "# Xhat += mu"
   ]
  },
  {
   "cell_type": "code",
   "execution_count": 35,
   "metadata": {},
   "outputs": [
    {
     "ename": "NameError",
     "evalue": "name 'trans' is not defined",
     "output_type": "error",
     "traceback": [
      "\u001b[0;31m---------------------------------------------------------------------------\u001b[0m",
      "\u001b[0;31mNameError\u001b[0m                                 Traceback (most recent call last)",
      "\u001b[0;32m<ipython-input-35-3c21d1cbfef4>\u001b[0m in \u001b[0;36m<module>\u001b[0;34m()\u001b[0m\n\u001b[0;32m----> 1\u001b[0;31m \u001b[0mtrans\u001b[0m\u001b[0;34m.\u001b[0m\u001b[0mshape\u001b[0m\u001b[0;34m,\u001b[0m \u001b[0mcomps\u001b[0m\u001b[0;34m.\u001b[0m\u001b[0mshape\u001b[0m\u001b[0;34m\u001b[0m\u001b[0m\n\u001b[0m",
      "\u001b[0;31mNameError\u001b[0m: name 'trans' is not defined"
     ]
    }
   ],
   "source": [
    "#trans.shape, comps.shape"
   ]
  },
  {
   "cell_type": "code",
   "execution_count": 81,
   "metadata": {},
   "outputs": [
    {
     "data": {
      "text/plain": [
       "(array([[-1.17313670e-09,  1.19986147e-08, -1.15722008e-09, ...,\n",
       "         -8.13183202e-10, -7.86898603e-10, -8.13046328e-10],\n",
       "        [ 1.05291668e-08,  3.56523365e-08,  1.06095655e-08, ...,\n",
       "          2.82946325e-09,  2.80371267e-09,  2.76834885e-09]]), (2, 192973))"
      ]
     },
     "execution_count": 81,
     "metadata": {},
     "output_type": "execute_result"
    }
   ],
   "source": [
    "# inv = np.linalg.pinv(trans)\n",
    "# inv , inv.shape"
   ]
  },
  {
   "cell_type": "code",
   "execution_count": 37,
   "metadata": {},
   "outputs": [],
   "source": [
    "# Xhat = np.dot(inv, comps)\n",
    "# Xhat += mu\n",
    "# Xhat"
   ]
  },
  {
   "cell_type": "code",
   "execution_count": 36,
   "metadata": {},
   "outputs": [],
   "source": [
    "# Xhat = np.dot(pca.transform(X)[:, :ncomp], pca.components_[:ncomp, :])\n",
    "# Xhat += mu"
   ]
  },
  {
   "cell_type": "code",
   "execution_count": null,
   "metadata": {},
   "outputs": [],
   "source": []
  },
  {
   "cell_type": "code",
   "execution_count": null,
   "metadata": {},
   "outputs": [],
   "source": []
  },
  {
   "cell_type": "code",
   "execution_count": null,
   "metadata": {},
   "outputs": [],
   "source": []
  },
  {
   "cell_type": "code",
   "execution_count": null,
   "metadata": {},
   "outputs": [],
   "source": []
  },
  {
   "cell_type": "code",
   "execution_count": null,
   "metadata": {},
   "outputs": [],
   "source": []
  },
  {
   "cell_type": "code",
   "execution_count": null,
   "metadata": {},
   "outputs": [],
   "source": []
  },
  {
   "cell_type": "code",
   "execution_count": null,
   "metadata": {},
   "outputs": [],
   "source": []
  },
  {
   "cell_type": "code",
   "execution_count": null,
   "metadata": {},
   "outputs": [],
   "source": []
  },
  {
   "cell_type": "code",
   "execution_count": null,
   "metadata": {},
   "outputs": [],
   "source": []
  },
  {
   "cell_type": "code",
   "execution_count": 38,
   "metadata": {},
   "outputs": [],
   "source": [
    "from sklearn.preprocessing import StandardScaler\n",
    "sc = StandardScaler()"
   ]
  },
  {
   "cell_type": "code",
   "execution_count": 39,
   "metadata": {},
   "outputs": [
    {
     "data": {
      "text/plain": [
       "(array([[-0.4795529 , -0.06175153, -0.17944134, ..., -0.48573786,\n",
       "         -0.07213757, -0.38968905],\n",
       "        [ 4.94981319, -0.08782903, -0.17944134, ..., -0.48573786,\n",
       "         -0.07213757, -0.38968905],\n",
       "        [-0.47298663,  0.14128049, -0.17944134, ..., -0.48573786,\n",
       "         -0.07213757, -0.38968905],\n",
       "        ...,\n",
       "        [-0.33415695,  0.06745067, -0.17944134, ..., -0.48573786,\n",
       "         -0.07213757, -0.38968905],\n",
       "        [-0.32336951, -0.06175153, -0.17944134, ..., -0.48573786,\n",
       "         -0.07213757, -0.38968905],\n",
       "        [-0.33415695, -0.18533624, -0.17944134, ..., -0.48573786,\n",
       "         -0.07213757, -0.38968905]]), (192973, 32))"
      ]
     },
     "execution_count": 39,
     "metadata": {},
     "output_type": "execute_result"
    }
   ],
   "source": [
    "Xstd = sc.fit_transform(X)\n",
    "Xstd, Xstd.shape"
   ]
  },
  {
   "cell_type": "code",
   "execution_count": 40,
   "metadata": {},
   "outputs": [
    {
     "data": {
      "text/plain": [
       "(array([[ 1.00000518, -0.00413405, -0.03833391, ..., -0.02582052,\n",
       "         -0.00789836, -0.03466189],\n",
       "        [-0.00413405,  1.00000518,  0.31806623, ...,  0.04546347,\n",
       "          0.00229746,  0.03493667],\n",
       "        [-0.03833391,  0.31806623,  1.00000518, ...,  0.03425834,\n",
       "         -0.01092788,  0.04681411],\n",
       "        ...,\n",
       "        [-0.02582052,  0.04546347,  0.03425834, ...,  1.00000518,\n",
       "          0.13493505,  0.81541342],\n",
       "        [-0.00789836,  0.00229746, -0.01092788, ...,  0.13493505,\n",
       "          1.00000518, -0.02811137],\n",
       "        [-0.03466189,  0.03493667,  0.04681411, ...,  0.81541342,\n",
       "         -0.02811137,  1.00000518]]), (32, 32))"
      ]
     },
     "execution_count": 40,
     "metadata": {},
     "output_type": "execute_result"
    }
   ],
   "source": [
    "cov_mat = np.cov(Xstd.T)\n",
    "cov_mat , cov_mat.shape"
   ]
  },
  {
   "cell_type": "code",
   "execution_count": 41,
   "metadata": {},
   "outputs": [
    {
     "name": "stdout",
     "output_type": "stream",
     "text": [
      "5.530571498929031 : [-3.11809488e-02 -5.13108252e-01  6.29161297e-02  5.49287725e-02\n",
      "  1.64658974e-01 -1.00452378e-01  7.93656284e-01 -1.25339184e-01\n",
      "  4.59767355e-03  9.68025501e-06 -8.65245203e-02 -2.55403823e-02\n",
      "  9.46388168e-03 -1.29007460e-01 -8.58166076e-02 -6.80881788e-03\n",
      "  1.46590234e-02 -5.47994116e-04  5.81552508e-02 -1.03140907e-02\n",
      " -8.22702367e-02  3.51116777e-03 -2.88370722e-02  3.11576963e-02\n",
      "  2.98315657e-02  7.32311702e-03 -2.08191671e-02  1.27443065e-03\n",
      " -1.75322192e-16  3.44111084e-16  2.83679216e-16 -1.87432227e-17] \n",
      "\n",
      "3.156978680542683 : [-1.61258886e-02 -2.53180021e-02  1.04382508e-01 -1.51097118e-01\n",
      " -4.59396405e-01 -3.51188598e-01 -3.66423877e-02 -2.74261177e-01\n",
      " -2.78356307e-02  7.73438298e-04 -8.77370558e-02  1.05450575e-02\n",
      " -8.73260149e-02  1.42427244e-01 -4.35365149e-01  4.58150940e-01\n",
      " -1.62044435e-01 -1.33248386e-01  1.74799043e-01  3.58690898e-02\n",
      "  6.97717174e-02 -1.16710726e-01 -5.58377245e-02 -4.27166344e-02\n",
      "  4.66140054e-02 -7.50731032e-02  6.13449849e-02 -8.73657891e-02\n",
      " -1.33962922e-16  5.44830318e-16 -4.18146258e-16 -2.33125755e-16] \n",
      "\n",
      "2.6487752326120773 : [-7.30785252e-03  4.11506205e-02  1.05411231e-01 -6.22962783e-02\n",
      " -2.45267008e-01 -3.52399821e-01 -9.79117787e-03  2.60757771e-02\n",
      "  1.04661185e-02 -2.37062834e-03  1.65568252e-02  4.15531619e-02\n",
      " -2.37158675e-03 -2.45006877e-01  3.50848196e-01 -3.56389685e-01\n",
      "  1.04457998e-01 -1.51169320e-01  4.53827989e-01 -1.45770567e-03\n",
      " -2.15642800e-01 -1.35064095e-01  2.72050631e-01 -1.43493912e-01\n",
      "  5.33471719e-02  4.78302344e-02  1.12139251e-01 -2.62878030e-01\n",
      "  2.68359646e-17 -1.52862948e-16 -2.36604625e-16  2.08045008e-16] \n",
      "\n",
      "1.990053620465841 : [-2.28515279e-02 -5.12050305e-01  3.34399795e-02  9.21083254e-02\n",
      "  2.28884198e-01 -1.11211647e-02 -5.10573337e-01 -5.73020154e-01\n",
      " -3.81871115e-02 -3.30674952e-04 -5.91094296e-02  2.52420817e-03\n",
      " -6.87815482e-04 -7.85288368e-02  2.99653911e-02 -9.70824362e-02\n",
      "  3.86398594e-02  2.91671429e-02  3.55686463e-02 -2.11092288e-02\n",
      " -7.70869333e-02  1.41643522e-02 -5.33815194e-03  2.23354596e-02\n",
      "  1.12524461e-02  1.64301128e-02 -1.64228223e-02  1.21733612e-02\n",
      " -4.11571449e-02  2.25681900e-01 -1.56684931e-02 -1.64955926e-02] \n",
      "\n",
      "1.6507360754406248 : [-3.93810858e-02 -5.23168552e-01  7.98881958e-02  1.60291699e-02\n",
      "  3.47802397e-02 -1.44782436e-01 -2.94380257e-01  7.44633347e-01\n",
      "  4.35687522e-02 -1.50001401e-03 -8.62146540e-02 -1.50480560e-02\n",
      " -1.26548497e-02 -3.13232843e-02 -1.35934031e-01  1.07947064e-01\n",
      " -3.67282829e-02 -2.64157710e-02  6.96323516e-02  4.51077049e-03\n",
      " -2.78384871e-02 -1.79364336e-02 -4.46859302e-02  1.47591762e-02\n",
      "  2.61996620e-02 -2.02745091e-02 -7.42874322e-03 -1.36310257e-02\n",
      "  6.83724074e-04  6.94298504e-03  4.62330538e-02  3.07197485e-02] \n",
      "\n",
      "1.4905966617948176 : [ 0.02314096 -0.08911541  0.47397724 -0.13814314 -0.12206316  0.26995459\n",
      "  0.01982425 -0.03552555  0.00227584 -0.00387716  0.34947225  0.01830112\n",
      " -0.03137552 -0.02238486 -0.01747451 -0.01721987  0.00218067 -0.02429911\n",
      " -0.06068438  0.03013967  0.06417146  0.0916554   0.06917794 -0.02884715\n",
      " -0.06854798  0.02938609  0.00519994 -0.10669285  0.00981006  0.09961782\n",
      "  0.66335099  0.44076637] \n",
      "\n",
      "0.07889679414499165 : [ 2.01800570e-02 -1.24247183e-01  4.74462089e-01 -1.35573524e-01\n",
      " -1.18370967e-01  2.57109312e-01 -6.85591733e-04  1.61990342e-02\n",
      "  5.25610304e-03 -3.93949882e-03  3.39822793e-01  1.70694618e-02\n",
      " -3.19155936e-02 -2.43075590e-02 -2.66629528e-02 -9.59358471e-03\n",
      " -3.75133930e-04 -2.58631063e-02 -5.52394731e-02  3.01312461e-02\n",
      "  6.15715839e-02  8.94470306e-02  6.53632454e-02 -2.75236191e-02\n",
      " -6.60147296e-02  2.76765303e-02  4.63255624e-03 -1.06501891e-01\n",
      " -9.91515827e-03 -1.00685054e-01 -6.70457664e-01 -4.45488436e-01] \n",
      "\n",
      "0.052184952108852115 : [ 0.25572676  0.27702989  0.20411396 -0.02226875  0.16984908 -0.24739572\n",
      "  0.05281824  0.11132867  0.01713094 -0.00460752  0.01548421 -0.02274437\n",
      " -0.06692565 -0.14603947 -0.2877367  -0.03937369  0.11671783  0.04181902\n",
      " -0.10492138 -0.08191903 -0.16736385  0.02596306  0.01527874  0.10525341\n",
      " -0.00332952  0.10595689 -0.06687385  0.02384176 -0.12748354  0.69904577\n",
      " -0.04853289 -0.05109481] \n",
      "\n",
      "0.12557638658151504 : [ 2.68264747e-01  1.20676947e-01  2.32143700e-01  8.06660866e-03\n",
      "  2.63288722e-01 -2.71112994e-01 -1.20999447e-01 -7.95741983e-02\n",
      "  5.18762076e-03 -5.09231482e-03 -3.88744070e-03 -2.36879931e-02\n",
      " -7.25323678e-02 -1.85136068e-01 -3.00360766e-01 -7.63868649e-02\n",
      "  1.39552527e-01  5.53440491e-02 -1.00931225e-01 -9.58496798e-02\n",
      " -2.07667640e-01  3.29846300e-02  1.46423765e-02  1.21482902e-01\n",
      "  3.27574106e-04  1.20183407e-01 -7.79637106e-02  2.99988957e-02\n",
      "  1.18019421e-01 -6.47150021e-01  4.49299019e-02  4.73016360e-02] \n",
      "\n",
      "0.001764286801423789 : [-1.87972946e-03  1.24830778e-02  3.04462393e-02  1.07321604e-02\n",
      "  4.45482473e-02 -4.65714470e-02  4.96877768e-03 -5.96635865e-04\n",
      " -5.75986599e-03  7.83337480e-04  1.41312007e-01 -5.90793694e-03\n",
      "  1.75200591e-02  2.66547410e-02  3.44292872e-02  1.71366532e-03\n",
      " -7.65199348e-02  7.74875070e-02  1.39911314e-01 -5.65091036e-01\n",
      "  1.00945296e-01 -1.54824837e-01 -8.72846346e-03 -2.51023755e-01\n",
      " -3.10349849e-02 -3.46705826e-01 -6.34846146e-01  1.28952242e-02\n",
      "  8.04880681e-17 -1.07396768e-16  6.01951437e-17 -4.47343967e-17] \n",
      "\n",
      "1.3653233961959306 : [ 0.39811075 -0.08777958 -0.10130456  0.04359839 -0.14838321  0.07540931\n",
      "  0.00723006 -0.0011858   0.03448684  0.28800569  0.01907992 -0.12775162\n",
      " -0.09558876  0.00562638  0.04816379 -0.02927632 -0.08913429  0.02806106\n",
      "  0.02136405 -0.00339191 -0.02749499  0.00184104 -0.01718793 -0.03021673\n",
      " -0.01905371  0.01509087  0.00561158  0.04751224  0.51760716 -0.11915699\n",
      " -0.25385706 -0.52226664] \n",
      "\n",
      "0.34416260423011075 : [-3.95514673e-01  8.87068190e-02  1.18679025e-01 -3.61152274e-02\n",
      "  1.48091274e-01 -7.86032945e-02 -7.44286662e-03  2.49004527e-03\n",
      " -3.29177329e-02  8.66142283e-01 -2.20813771e-02  1.18771446e-01\n",
      "  8.53205920e-02  8.20241707e-03 -3.91318577e-02  3.26067106e-02\n",
      "  9.89097138e-02 -3.07537777e-02 -2.43470531e-02  5.80230254e-03\n",
      "  1.29642110e-02 -6.94875468e-04  1.77521311e-02  3.64506154e-02\n",
      "  1.61409050e-02 -1.96803553e-02 -9.56490665e-03 -4.90960486e-02\n",
      " -1.01704701e-14  8.07420581e-15 -4.97921494e-14 -1.50963560e-13] \n",
      "\n",
      "0.3882225506470535 : [-0.39811075  0.08777958  0.10130456 -0.04359839  0.14838321 -0.07540931\n",
      " -0.00723006  0.0011858  -0.03448684 -0.28800569 -0.01907992  0.12775162\n",
      "  0.09558876 -0.00562638 -0.04816379  0.02927632  0.08913429 -0.02806106\n",
      " -0.02136405  0.00339191  0.02749499 -0.00184104  0.01718793  0.03021673\n",
      "  0.01905371 -0.01509087 -0.00561158 -0.04751224  0.79080672 -0.04976625\n",
      " -0.06764219  0.04875171] \n",
      "\n",
      "0.5540530837572024 : [ 1.24802812e-01  9.28652825e-02  2.68160183e-01 -2.75515795e-01\n",
      "  7.45370360e-02  1.06777418e-01 -2.39507443e-02 -1.15526460e-02\n",
      " -2.88631648e-03  3.81166452e-03 -3.26681727e-01 -2.70750597e-01\n",
      "  6.48823496e-01 -7.67420164e-02  1.46984926e-02 -8.07436488e-02\n",
      " -2.28495425e-01  6.94364329e-02  2.16674733e-01  7.56425441e-02\n",
      "  1.59087461e-03  1.64525899e-02 -2.40076719e-01  2.31207376e-02\n",
      "  3.55072735e-02 -1.44260335e-01  3.73067925e-02  7.11413352e-02\n",
      " -4.87503618e-17  9.24194613e-17 -5.04596920e-16 -1.07011196e-15] \n",
      "\n",
      "0.5980119486712989 : [-0.39811075  0.08777958  0.10130456 -0.04359839  0.14838321 -0.07540931\n",
      " -0.00723006  0.0011858  -0.03448684 -0.28800569 -0.01907992  0.12775162\n",
      "  0.09558876 -0.00562638 -0.04816379  0.02927632  0.08913429 -0.02806106\n",
      " -0.02136405  0.00339191  0.02749499 -0.00184104  0.01718793  0.03021673\n",
      "  0.01905371 -0.01509087 -0.00561158 -0.04751224 -0.27319956 -0.06939075\n",
      " -0.18621487 -0.57101835] \n",
      "\n",
      "0.647767841699927 : [-6.37752715e-03 -1.52567106e-03 -5.35888419e-02 -1.32352005e-03\n",
      "  2.41550995e-02 -7.07871399e-02  5.66583598e-03  9.51886867e-04\n",
      " -1.52600988e-02 -3.26961911e-04 -9.77178503e-02 -1.31026143e-02\n",
      " -1.69448217e-02 -2.23526037e-02  1.46791245e-02  1.09315909e-02\n",
      " -1.51688821e-02 -1.98773060e-02  1.09673900e-01 -2.65021249e-01\n",
      "  1.18008655e-01  1.97962176e-01 -5.51621327e-02  1.79384604e-01\n",
      " -8.57055217e-01 -3.33754980e-02  1.98416717e-01 -1.84736726e-01\n",
      " -1.61764274e-17 -8.69163703e-17  6.36549646e-17  9.13753158e-17] \n",
      "\n",
      "0.684361037553882 : [ 3.67113389e-02 -2.21219256e-02  1.37383954e-02  8.56173595e-02\n",
      " -3.44587336e-02 -1.23505752e-01  6.37619442e-03 -1.69839846e-03\n",
      "  3.38761152e-03 -9.32524829e-04  2.09085214e-01  4.19437689e-02\n",
      "  4.24403303e-02 -7.09172486e-04  1.11892174e-01 -4.50520431e-02\n",
      " -1.44518818e-02  3.26156126e-01 -2.62075646e-01 -1.94231584e-01\n",
      " -4.31575073e-02 -3.43083663e-01 -4.02659473e-01  1.67827496e-01\n",
      "  1.59522044e-01 -2.72858087e-01  3.67360136e-01 -3.93193997e-01\n",
      " -1.82935417e-17 -2.32279353e-17  1.04392141e-16  2.36498260e-16] \n",
      "\n",
      "1.1465985728914754 : [-1.43094390e-02  2.22406143e-03  1.51769972e-02  1.85704487e-02\n",
      " -2.89944712e-02  7.95760906e-03  2.50645424e-03 -7.70434539e-04\n",
      "  6.79176164e-03 -9.85096715e-04 -1.23314863e-01 -8.21947437e-03\n",
      "  9.27012659e-03  3.62543917e-02  1.70736043e-02  7.62266092e-02\n",
      "  1.49024091e-01  4.32974403e-01  1.09165709e-02  3.50749491e-01\n",
      " -1.40170293e-02 -1.99319444e-01 -2.21544857e-01 -3.36311080e-01\n",
      " -2.35310550e-01  4.07230961e-01 -3.36029971e-01 -3.26228528e-01\n",
      " -1.83311413e-16  7.53351349e-17  1.12571535e-16  2.04457225e-16] \n",
      "\n",
      "1.1023087290824423 : [-1.67709108e-01  9.37191493e-03 -2.19493107e-01 -2.50964784e-01\n",
      " -6.72517357e-02  2.03073566e-01 -1.53174743e-02  1.48012443e-02\n",
      " -6.57146938e-02  1.96289686e-02 -4.13432355e-02  2.56962745e-01\n",
      " -1.73605748e-01 -3.39813066e-01 -3.76366388e-01 -3.62755774e-01\n",
      " -4.88655606e-01  1.81964498e-01  2.03106905e-02 -1.06356353e-01\n",
      " -6.22027410e-02  3.43377668e-02 -4.33590440e-02 -1.07989665e-01\n",
      "  3.76727531e-02  1.18985783e-01  5.21665119e-02 -5.10291284e-02\n",
      "  7.38281611e-17  1.27093459e-16 -1.23684613e-15 -3.42554319e-15] \n",
      "\n",
      "1.074801608439306 : [-1.78902971e-02 -9.93089173e-03 -3.67907384e-02 -9.24685752e-02\n",
      " -8.32163270e-02  1.37798829e-01 -1.83046323e-03 -4.67447651e-03\n",
      "  2.00205079e-02 -3.39905271e-03 -1.44273842e-01 -7.70841782e-02\n",
      " -3.86445944e-02  4.57315637e-02  1.09519161e-01  9.49380830e-02\n",
      " -1.09524997e-01  8.63232057e-02  9.41046782e-02 -1.21216347e-01\n",
      "  3.97248290e-02 -1.24263780e-02  2.00836035e-01  7.17140316e-01\n",
      "  1.87858072e-01  2.45634101e-01 -3.18794589e-01 -3.39655407e-01\n",
      " -2.27621989e-17  3.91274679e-18  8.20840385e-17  5.44155898e-16] \n",
      "\n",
      "0.8086437393849413 : [ 9.91058113e-02  1.04345040e-01 -1.12870562e-01  1.42572393e-01\n",
      "  1.78223662e-01  9.38727239e-02 -2.40121756e-02 -4.18809792e-03\n",
      "  5.47888899e-03  1.31052301e-03  1.20066041e-01  1.38298263e-01\n",
      " -7.19747852e-02 -4.45664504e-01  4.88937302e-02  2.75359179e-01\n",
      " -1.17612243e-01 -2.68568426e-01  1.14151993e-01  3.87313593e-01\n",
      " -9.73974478e-02  1.58084406e-01 -1.86604397e-01  5.90333318e-02\n",
      " -1.33753910e-02 -3.66951022e-01 -2.05796948e-01 -3.00828138e-01\n",
      "  9.44638369e-17 -3.57588059e-17 -1.46479151e-16 -6.53768573e-17] \n",
      "\n",
      "0.8568560098451542 : [ 7.52615761e-02  9.08957571e-02  1.37852432e-01  3.02653382e-02\n",
      "  2.52178114e-01  2.76590848e-01  2.91273450e-05  1.20213787e-02\n",
      "  4.37430382e-02  2.17578324e-03 -1.25187958e-01  1.83305892e-01\n",
      " -1.31077722e-01 -2.05560818e-01  1.60958620e-01  5.17075963e-01\n",
      " -3.76729630e-02  1.48261166e-01  2.92080239e-01 -2.68083691e-01\n",
      " -5.21847992e-02 -2.55333802e-01  1.14978062e-01 -1.27571618e-01\n",
      "  5.56724622e-02  1.83433008e-01  3.02131319e-01  1.26438093e-01\n",
      "  4.38429889e-16 -4.71317062e-18  2.67588153e-16  4.51135822e-16] \n",
      "\n",
      "0.872713992935171 : [ 8.06950401e-02  2.80549389e-02  1.56662487e-01  1.05202859e-01\n",
      "  3.15860119e-01 -3.19563480e-01  1.92980562e-02 -3.78179469e-03\n",
      " -2.99787817e-02 -1.72426850e-04  8.00941419e-02  7.44504259e-02\n",
      "  1.95881492e-04  2.27437584e-01  2.31747600e-01 -4.76666852e-03\n",
      " -6.83029736e-01 -1.49295280e-01 -1.80677653e-01  1.15079198e-01\n",
      "  1.46373814e-01 -1.02811815e-01  1.31061133e-01 -8.25367092e-02\n",
      " -5.35222434e-02  1.94118980e-01 -8.94222499e-03 -7.19933754e-02\n",
      " -7.62180079e-17  9.89186619e-17 -9.13970317e-17 -1.25289219e-17] \n",
      "\n",
      "1.0015564201052503 : [-5.67418584e-03 -2.64007508e-02  4.13033151e-02 -2.73512544e-02\n",
      " -7.08845894e-02  2.28996720e-01 -5.21035136e-03  8.11616680e-04\n",
      " -2.61848678e-02 -3.49944197e-03 -2.65953191e-01 -7.17057028e-02\n",
      "  1.22226551e-02 -1.23450132e-01 -9.09511977e-02 -6.76792341e-02\n",
      "  2.45393002e-02 -3.28035955e-01 -3.68443711e-01  7.25370487e-02\n",
      " -1.47236554e-01 -6.47336961e-01  2.45401109e-01  2.64295955e-02\n",
      " -2.39845385e-01 -1.47160625e-01 -6.53738864e-02 -1.37934611e-02\n",
      "  1.41455955e-16 -1.68920110e-16  2.43029902e-16  8.74352008e-16] \n",
      "\n",
      "0.993378362071276 : [ 5.61153311e-02  6.31753218e-02 -6.69065836e-02  2.34671377e-01\n",
      "  3.01564922e-01  2.46331528e-01  1.42378061e-02  2.73017431e-02\n",
      " -4.33689909e-02 -2.44596009e-03  9.11603081e-02 -1.42143293e-01\n",
      "  9.61629599e-03  4.41769376e-01 -4.10024181e-01 -1.68348331e-01\n",
      "  2.09501555e-02 -5.41613397e-02  3.89937163e-01  5.44233809e-02\n",
      " -6.96503637e-02 -1.00570259e-01  1.75276159e-01 -7.41267671e-02\n",
      "  4.76767756e-02 -1.07786287e-01  1.41489530e-01 -3.39339216e-01\n",
      " -3.66226260e-16 -2.47764808e-17  1.35896930e-16  1.17581895e-16] \n",
      "\n",
      "0.9234379187748217 : [-3.29018569e-01  6.83605341e-02 -3.60323620e-02 -2.79690901e-02\n",
      "  8.74716919e-02 -6.22453788e-02 -2.52078103e-02 -2.80824403e-02\n",
      "  3.17928789e-01 -2.63550336e-03  2.06421380e-01 -7.50988563e-01\n",
      " -2.56498464e-01 -2.09593979e-01 -1.23071232e-03  5.24671660e-02\n",
      " -1.35917839e-01  9.43122255e-02  4.74797937e-02  6.00034296e-02\n",
      "  1.39995221e-03 -8.37000003e-02  7.47935033e-03 -5.57783462e-03\n",
      " -3.39605548e-02  4.19502318e-03  5.37113090e-02  8.66877715e-02\n",
      "  2.62671911e-17 -1.78854581e-17  1.40621919e-16  7.99826614e-16] \n",
      "\n",
      "0.9479072191519026 : [-6.31958327e-02 -3.20767719e-02 -7.11693788e-02 -4.01296046e-01\n",
      "  6.33500501e-02  1.78824862e-02  1.22599139e-02  2.38821347e-03\n",
      " -2.33512677e-02 -1.19713825e-02  7.84012205e-02  1.60572248e-02\n",
      " -8.17092310e-02  3.38421167e-01  1.59546569e-01  1.51525139e-01\n",
      " -9.51244918e-02  5.64094776e-02 -4.95313186e-02  5.42564265e-03\n",
      " -7.70604698e-01  1.10575079e-01 -1.54618348e-02 -1.13076045e-02\n",
      " -1.07037755e-01 -1.10778425e-01 -4.48036203e-02  2.82158804e-02\n",
      " -1.37011716e-16 -2.13849887e-17  7.61531579e-16  2.17738397e-15] \n",
      "\n",
      "0.9639266023076579 : [-6.78910844e-02 -3.21537752e-02 -2.07325474e-01  3.44110518e-01\n",
      " -1.86658976e-01  1.06556303e-03 -1.83063145e-02 -4.32891729e-03\n",
      " -7.64002563e-03  7.75277159e-03  3.40317392e-01 -5.07759170e-02\n",
      "  5.89507290e-01 -1.78719279e-01 -1.37402451e-01  2.02654058e-01\n",
      " -9.81343056e-02 -1.06530726e-02 -1.12846052e-01 -1.55749963e-01\n",
      " -2.75306115e-01  4.95488818e-02  1.99534680e-01 -4.63056985e-02\n",
      " -5.24508380e-02  2.62514588e-01  2.77925574e-03 -3.50521256e-02\n",
      "  2.58579930e-17  9.99401194e-17 -6.47441612e-16 -1.58913406e-15] \n",
      "\n",
      "6.892336321762433e-16 : [ 5.44255943e-02 -2.42408873e-02  1.28091604e-02 -2.69184416e-03\n",
      " -1.74945864e-02 -9.83470444e-02  2.66835267e-03 -3.20759753e-03\n",
      "  1.98893157e-02  4.84762278e-04 -1.36662331e-01  2.51544902e-02\n",
      "  4.50230782e-02 -6.89175278e-02 -1.71234852e-02  9.13908180e-02\n",
      " -3.76112675e-02  5.43166502e-01 -1.48211139e-01  1.86206107e-01\n",
      "  8.34525516e-02  1.67334671e-01  6.16526248e-01 -5.93695464e-02\n",
      " -2.42364198e-02 -4.14239490e-01  5.88080694e-02 -6.19475994e-02\n",
      "  3.11914176e-17  6.98509283e-17 -9.23732283e-17 -1.16860908e-16] \n",
      "\n",
      "9.518249770634096e-17 : [-1.09882642e-01  6.80124256e-02  2.65517200e-01  4.44358583e-01\n",
      " -2.00087578e-01  8.56777948e-02 -1.80438164e-04 -3.40144427e-02\n",
      "  6.50537418e-01 -1.00237095e-02 -2.55538109e-01  1.99986855e-01\n",
      " -5.89179244e-02  1.14619272e-01 -1.34736036e-02 -1.22465025e-01\n",
      " -1.41691156e-01  3.64502566e-02  7.59037745e-03 -2.12153851e-02\n",
      " -2.20513959e-01  1.08356190e-01 -1.01664486e-01  3.81415554e-02\n",
      " -2.25027497e-02 -7.32658019e-02 -5.16384454e-02  6.18064790e-02\n",
      "  6.78652423e-16  3.49819014e-17  8.84585457e-16  2.43655751e-15] \n",
      "\n",
      "-4.526369302967906e-16 : [-1.15749022e-02  1.83455652e-02  4.38733907e-02  8.55608024e-03\n",
      "  2.02085102e-04  7.98874253e-02 -4.99657862e-03 -2.14778662e-04\n",
      " -5.96577909e-02 -3.63701285e-03 -3.70662296e-01 -2.55748151e-01\n",
      " -8.25895856e-02 -3.35786762e-02  5.75671769e-02  8.81598564e-02\n",
      "  2.91189071e-02 -2.17855131e-01 -3.22468574e-01 -3.01500953e-01\n",
      " -2.82286267e-02  3.65656373e-01  1.41828087e-02 -3.65316334e-01\n",
      "  2.13347885e-01  6.93456882e-02  7.72935770e-02 -4.45042757e-01\n",
      " -9.10286344e-17 -1.19310238e-16  8.76662896e-17  5.09881816e-16] \n",
      "\n",
      "-5.424509365833757e-16 : [-1.53634647e-01  8.02420615e-02  2.57442776e-01  4.42003848e-01\n",
      " -1.82992689e-01  4.59238246e-02  6.54194796e-03  4.49121352e-02\n",
      " -6.71890871e-01 -1.03186269e-02 -1.22474281e-01 -1.69475257e-01\n",
      " -1.88914874e-01 -2.54095593e-02  5.92461093e-02 -3.77713234e-02\n",
      " -1.38728859e-01  1.41018738e-01  7.23581317e-02  3.24577039e-02\n",
      " -1.89364134e-01  4.66782431e-02 -9.05902190e-02  8.91630747e-02\n",
      " -2.55027598e-02 -6.18629598e-02 -3.31489376e-02  1.70087030e-01\n",
      " -4.04411056e-16 -2.07121868e-16  2.54015141e-16  1.11061942e-15] \n",
      "\n"
     ]
    }
   ],
   "source": [
    "evals, evecs = np.linalg.eig(cov_mat)\n",
    "for x,y in zip(evals,evecs):\n",
    "    print(x, ':', y, '\\n')"
   ]
  },
  {
   "cell_type": "code",
   "execution_count": 42,
   "metadata": {},
   "outputs": [
    {
     "data": {
      "text/plain": [
       "(32, 32, (32, 32))"
      ]
     },
     "execution_count": 42,
     "metadata": {},
     "output_type": "execute_result"
    }
   ],
   "source": [
    "len(evals) , len(evecs), evecs.shape"
   ]
  },
  {
   "cell_type": "code",
   "execution_count": 43,
   "metadata": {},
   "outputs": [
    {
     "name": "stdout",
     "output_type": "stream",
     "text": [
      "tot: 32.000165827166654\n",
      "var_exp: [0.17282946372214836, 0.09865507252661031, 0.08277379707711983, 0.06218885337076528, 0.051585235037726794, 0.04658090429423245, 0.002465512040503613, 0.0016307713025833608, 0.003924241744863288, 5.5133676836324125e-05, 0.04266613503098895, 0.010755025648583754, 0.012131891839056365, 0.017314069144192906, 0.018687776554070685, 0.02024264015375827, 0.021386171598301258, 0.035831019722968635, 0.03444696927622273, 0.03358737621062105, 0.025269985904211794, 0.026776611548610264, 0.027272170952135424, 0.03129847593648954, 0.03104291294728054, 0.02885728542040447, 0.029621947094635784, 0.030122550224078184, 2.153843939118328e-17, 2.974437639492963e-18, -1.4144830771861905e-17, -1.695150392385967e-17]\n",
      "cumsum_varexp: [0.17282946 0.27148454 0.35425833 0.41644719 0.46803242 0.51461333\n",
      " 0.51707884 0.51870961 0.52263385 0.52268898 0.56535512 0.57611015\n",
      " 0.58824204 0.60555611 0.62424388 0.64448652 0.66587269 0.70170371\n",
      " 0.73615068 0.76973806 0.79500805 0.82178466 0.84905683 0.8803553\n",
      " 0.91139822 0.9402555  0.96987745 1.         1.         1.\n",
      " 1.         1.        ]\n"
     ]
    }
   ],
   "source": [
    "tot = sum(evals)\n",
    "var_exp = [(i/tot) for i in evals]\n",
    "cumvar_exp = np.cumsum(var_exp)\n",
    "print('tot:', tot)\n",
    "print('var_exp:', var_exp)\n",
    "print('cumsum_varexp:', cumvar_exp)"
   ]
  },
  {
   "cell_type": "code",
   "execution_count": 46,
   "metadata": {},
   "outputs": [],
   "source": [
    "import matplotlib.pyplot as plt\n",
    "%matplotlib inline\n",
    "import seaborn as sns\n",
    "sns.set_style('whitegrid')"
   ]
  },
  {
   "cell_type": "code",
   "execution_count": 57,
   "metadata": {},
   "outputs": [
    {
     "data": {
      "image/png": "[encoded data removed]",
      "text/plain": [
       "<Figure size 720x720 with 1 Axes>"
      ]
     },
     "metadata": {},
     "output_type": "display_data"
    },
    {
     "data": {
      "text/plain": [
       "<Figure size 432x288 with 0 Axes>"
      ]
     },
     "metadata": {},
     "output_type": "display_data"
    }
   ],
   "source": [
    "plt.figure(figsize=(10,10))\n",
    "plt.bar(range(1,33), var_exp, alpha=0.5, align='center', label= 'individual explained variance')\n",
    "plt.step(range(1,33), cumvar_exp, where='mid', label='cumm. explained variance')\n",
    "plt.xlabel('Principal Components', fontsize=15)\n",
    "plt.ylabel('Explained variance ratio', fontsize=15)\n",
    "plt.legend(loc='best', frameon=True,prop={'size':15})\n",
    "plt.title('EVR vs PCs', fontsize=20)\n",
    "#plt.xticks(range(1,33))\n",
    "plt.show()\n",
    "plt.savefig('EVR.jpg')"
   ]
  },
  {
   "cell_type": "code",
   "execution_count": 6,
   "metadata": {},
   "outputs": [],
   "source": [
    "# for i, x, y in zip(range(1,33), data.columns, var_exp):\n",
    "#     print(i, ':', x, ':', y)"
   ]
  },
  {
   "cell_type": "code",
   "execution_count": 5,
   "metadata": {},
   "outputs": [],
   "source": [
    "# for i, x in zip(range(1,33), data.columns):\n",
    "#     print(i, ':', x)"
   ]
  },
  {
   "cell_type": "code",
   "execution_count": null,
   "metadata": {},
   "outputs": [],
   "source": []
  }
 ],
 "metadata": {
  "kernelspec": {
   "display_name": "Python 3",
   "language": "python",
   "name": "python3"
  },
  "language_info": {
   "codemirror_mode": {
    "name": "ipython",
    "version": 3
   },
   "file_extension": ".py",
   "mimetype": "text/x-python",
   "name": "python",
   "nbconvert_exporter": "python",
   "pygments_lexer": "ipython3",
   "version": "3.8.5"
  }
 },
 "nbformat": 4,
 "nbformat_minor": 2
}
