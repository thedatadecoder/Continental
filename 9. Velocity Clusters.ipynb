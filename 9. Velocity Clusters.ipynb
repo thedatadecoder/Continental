{
 "cells": [
  {
   "cell_type": "code",
   "execution_count": 3,
   "metadata": {},
   "outputs": [],
   "source": [
    "import numpy as np\n",
    "import pandas as pd"
   ]
  },
  {
   "cell_type": "code",
   "execution_count": 4,
   "metadata": {},
   "outputs": [
    {
     "name": "stderr",
     "output_type": "stream",
     "text": [
      "C:\\Users\\uia72388\\AppData\\Local\\Continuum\\anaconda2\\lib\\site-packages\\IPython\\core\\interactiveshell.py:2718: DtypeWarning: Columns (11) have mixed types. Specify dtype option on import or set low_memory=False.\n",
      "  interactivity=interactivity, compiler=compiler, result=result)\n"
     ]
    }
   ],
   "source": [
    "df = pd.read_csv(r\"A:\\Analyse.csv\")"
   ]
  },
  {
   "cell_type": "code",
   "execution_count": 1,
   "metadata": {},
   "outputs": [],
   "source": [
    "# df.head()"
   ]
  },
  {
   "cell_type": "code",
   "execution_count": 2,
   "metadata": {},
   "outputs": [],
   "source": [
    "# df.drop(['Unnamed: 0'] , axis=1, inplace=True)\n",
    "# df.head()"
   ]
  },
  {
   "cell_type": "code",
   "execution_count": 3,
   "metadata": {},
   "outputs": [],
   "source": [
    "# print df['vdy.velocity'].dropna().count()\n",
    "# #df['vdy.velocity'].dropna().value_counts()"
   ]
  },
  {
   "cell_type": "code",
   "execution_count": 8,
   "metadata": {},
   "outputs": [],
   "source": [
    "data = df['vdy.velocity'].dropna()"
   ]
  },
  {
   "cell_type": "code",
   "execution_count": 9,
   "metadata": {},
   "outputs": [],
   "source": [
    "from scipy.cluster.vq import kmeans,vq"
   ]
  },
  {
   "cell_type": "code",
   "execution_count": 10,
   "metadata": {},
   "outputs": [],
   "source": [
    "centroids,lab = kmeans(data,3)\n",
    "idx,_ = vq(data,centroids)"
   ]
  },
  {
   "cell_type": "code",
   "execution_count": 1,
   "metadata": {},
   "outputs": [
    {
     "data": {
      "text/plain": [
       "'print(centroids)\\nfor cluster,vel in zip(idx,data):\\n    print(cluster,vel)\\n'"
      ]
     },
     "execution_count": 1,
     "metadata": {},
     "output_type": "execute_result"
    }
   ],
   "source": [
    "'''print(centroids)\n",
    "for cluster,vel in zip(idx,data):\n",
    "    print(cluster,vel)\n",
    "'''"
   ]
  },
  {
   "cell_type": "code",
   "execution_count": 12,
   "metadata": {},
   "outputs": [],
   "source": [
    "import matplotlib.pyplot as plt"
   ]
  },
  {
   "cell_type": "code",
   "execution_count": 13,
   "metadata": {},
   "outputs": [],
   "source": [
    "data = pd.DataFrame({'idx':idx,'data':data})\n"
   ]
  },
  {
   "cell_type": "code",
   "execution_count": 14,
   "metadata": {},
   "outputs": [
    {
     "data": {
      "text/html": [
       "<div>\n",
       "<style scoped>\n",
       "    .dataframe tbody tr th:only-of-type {\n",
       "        vertical-align: middle;\n",
       "    }\n",
       "\n",
       "    .dataframe tbody tr th {\n",
       "        vertical-align: top;\n",
       "    }\n",
       "\n",
       "    .dataframe thead th {\n",
       "        text-align: right;\n",
       "    }\n",
       "</style>\n",
       "<table border=\"1\" class=\"dataframe\">\n",
       "  <thead>\n",
       "    <tr style=\"text-align: right;\">\n",
       "      <th></th>\n",
       "      <th>data</th>\n",
       "      <th>idx</th>\n",
       "    </tr>\n",
       "  </thead>\n",
       "  <tbody>\n",
       "    <tr>\n",
       "      <th>0</th>\n",
       "      <td>14.076314</td>\n",
       "      <td>0</td>\n",
       "    </tr>\n",
       "    <tr>\n",
       "      <th>1</th>\n",
       "      <td>12.634358</td>\n",
       "      <td>0</td>\n",
       "    </tr>\n",
       "    <tr>\n",
       "      <th>4</th>\n",
       "      <td>13.949627</td>\n",
       "      <td>0</td>\n",
       "    </tr>\n",
       "    <tr>\n",
       "      <th>6</th>\n",
       "      <td>14.012307</td>\n",
       "      <td>0</td>\n",
       "    </tr>\n",
       "    <tr>\n",
       "      <th>7</th>\n",
       "      <td>13.885149</td>\n",
       "      <td>0</td>\n",
       "    </tr>\n",
       "  </tbody>\n",
       "</table>\n",
       "</div>"
      ],
      "text/plain": [
       "        data  idx\n",
       "0  14.076314    0\n",
       "1  12.634358    0\n",
       "4  13.949627    0\n",
       "6  14.012307    0\n",
       "7  13.885149    0"
      ]
     },
     "execution_count": 14,
     "metadata": {},
     "output_type": "execute_result"
    }
   ],
   "source": [
    "data.head()"
   ]
  },
  {
   "cell_type": "code",
   "execution_count": 24,
   "metadata": {},
   "outputs": [
    {
     "data": {
      "image/png": "[encoded data removed]",
      "text/plain": [
       "<matplotlib.figure.Figure at 0x20103cf8>"
      ]
     },
     "metadata": {},
     "output_type": "display_data"
    }
   ],
   "source": [
    "import random\n",
    "c = 0\n",
    "for row in data.iterrows():\n",
    "    c+=1\n",
    "    if c ==300:\n",
    "        c=0\n",
    "    else:\n",
    "        continue\n",
    "    y = random.uniform(0.8,1.2)\n",
    "    if row[1]['idx'] == 0:\n",
    "        plt.plot([row[1]['data']],[y],'r*')\n",
    "    if row[1]['idx'] == 1:\n",
    "        plt.plot([row[1]['data']],[y],'b+')\n",
    "    if row[1]['idx'] == 2:\n",
    "        plt.plot([row[1]['data']],[y],'g^')\n",
    "plt.show()"
   ]
  },
  {
   "cell_type": "code",
   "execution_count": null,
   "metadata": {},
   "outputs": [],
   "source": []
  },
  {
   "cell_type": "code",
   "execution_count": 50,
   "metadata": {},
   "outputs": [
    {
     "name": "stdout",
     "output_type": "stream",
     "text": [
      "Help on function vq in module scipy.cluster.vq:\n",
      "\n",
      "vq(obs, code_book, check_finite=True)\n",
      "    Assign codes from a code book to observations.\n",
      "    \n",
      "    Assigns a code from a code book to each observation. Each\n",
      "    observation vector in the 'M' by 'N' `obs` array is compared with the\n",
      "    centroids in the code book and assigned the code of the closest\n",
      "    centroid.\n",
      "    \n",
      "    The features in `obs` should have unit variance, which can be\n",
      "    achieved by passing them through the whiten function.  The code\n",
      "    book can be created with the k-means algorithm or a different\n",
      "    encoding algorithm.\n",
      "    \n",
      "    Parameters\n",
      "    ----------\n",
      "    obs : ndarray\n",
      "        Each row of the 'M' x 'N' array is an observation.  The columns are\n",
      "        the \"features\" seen during each observation. The features must be\n",
      "        whitened first using the whiten function or something equivalent.\n",
      "    code_book : ndarray\n",
      "        The code book is usually generated using the k-means algorithm.\n",
      "        Each row of the array holds a different code, and the columns are\n",
      "        the features of the code.\n",
      "    \n",
      "         >>> #              f0    f1    f2   f3\n",
      "         >>> code_book = [\n",
      "         ...             [  1.,   2.,   3.,   4.],  #c0\n",
      "         ...             [  1.,   2.,   3.,   4.],  #c1\n",
      "         ...             [  1.,   2.,   3.,   4.]]  #c2\n",
      "    \n",
      "    check_finite : bool, optional\n",
      "        Whether to check that the input matrices contain only finite numbers.\n",
      "        Disabling may give a performance gain, but may result in problems\n",
      "        (crashes, non-termination) if the inputs do contain infinities or NaNs.\n",
      "        Default: True\n",
      "    \n",
      "    Returns\n",
      "    -------\n",
      "    code : ndarray\n",
      "        A length M array holding the code book index for each observation.\n",
      "    dist : ndarray\n",
      "        The distortion (distance) between the observation and its nearest\n",
      "        code.\n",
      "    \n",
      "    Examples\n",
      "    --------\n",
      "    >>> from numpy import array\n",
      "    >>> from scipy.cluster.vq import vq\n",
      "    >>> code_book = array([[1.,1.,1.],\n",
      "    ...                    [2.,2.,2.]])\n",
      "    >>> features  = array([[  1.9,2.3,1.7],\n",
      "    ...                    [  1.5,2.5,2.2],\n",
      "    ...                    [  0.8,0.6,1.7]])\n",
      "    >>> vq(features,code_book)\n",
      "    (array([1, 1, 0],'i'), array([ 0.43588989,  0.73484692,  0.83066239]))\n",
      "\n"
     ]
    }
   ],
   "source": [
    "help(vq)"
   ]
  },
  {
   "cell_type": "code",
   "execution_count": null,
   "metadata": {},
   "outputs": [],
   "source": []
  }
 ],
 "metadata": {
  "kernelspec": {
   "display_name": "Python 3",
   "language": "python",
   "name": "python3"
  },
  "language_info": {
   "codemirror_mode": {
    "name": "ipython",
    "version": 3
   },
   "file_extension": ".py",
   "mimetype": "text/x-python",
   "name": "python",
   "nbconvert_exporter": "python",
   "pygments_lexer": "ipython3",
   "version": "3.8.5"
  }
 },
 "nbformat": 4,
 "nbformat_minor": 2
}
