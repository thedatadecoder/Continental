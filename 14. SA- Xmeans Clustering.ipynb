{
 "cells": [
  {
   "cell_type": "code",
   "execution_count": 2,
   "metadata": {},
   "outputs": [],
   "source": [
    "import numpy as np\n",
    "import pandas as pd\n",
    "from matplotlib import pyplot as plt   #import matplotlib.pyplot as plt\n",
    "%matplotlib inline\n",
    "import seaborn as sns\n",
    "sns.set_style('whitegrid')"
   ]
  },
  {
   "cell_type": "code",
   "execution_count": 1,
   "metadata": {},
   "outputs": [],
   "source": [
    "# #df = pd.read_csv(r\"/home/uia72388/Share_A/Analyse.csv\")d\n",
    "# df = pd.read_csv(r'/home/uia72388/Share_A/New Data/AnalyseThis.csv')\n",
    "# df.head()"
   ]
  },
  {
   "cell_type": "code",
   "execution_count": 3,
   "metadata": {},
   "outputs": [],
   "source": [
    "from sklearn import cluster\n",
    "from scipy.spatial import distance\n",
    "import sklearn.datasets\n",
    "from sklearn.preprocessing import StandardScaler\n",
    "import numpy as np"
   ]
  },
  {
   "cell_type": "code",
   "execution_count": 4,
   "metadata": {},
   "outputs": [],
   "source": [
    "def compute_bic(kmeans,X):\n",
    "    \"\"\"\n",
    "    Computes the BIC metric for a given clusters\n",
    "\n",
    "    Parameters:\n",
    "    -----------------------------------------\n",
    "    kmeans:  List of clustering object from scikit learn\n",
    "\n",
    "    X     :  multidimension np array of data points\n",
    "\n",
    "    Returns:\n",
    "    -----------------------------------------\n",
    "    BIC value\n",
    "    \"\"\"\n",
    "    # assign centers and labels\n",
    "    centers = [kmeans.cluster_centers_]\n",
    "    labels  = kmeans.labels_\n",
    "    #number of clusters\n",
    "    m = kmeans.n_clusters\n",
    "    # size of the clusters\n",
    "    n = np.bincount(labels)\n",
    "    #size of data set\n",
    "    N, d = X.shape\n",
    "\n",
    "    #compute variance for all clusters beforehand\n",
    "    cl_var = (1.0 / (N - m) / d) * sum([sum(distance.cdist(X[np.where(labels == i)], [centers[0][i]], \n",
    "             'euclidean')**2) for i in range(m)])\n",
    "\n",
    "    const_term = 0.5 * m * np.log(N) * (d+1)\n",
    "\n",
    "    BIC = np.sum([n[i] * np.log(n[i]) -\n",
    "               n[i] * np.log(N) -\n",
    "             ((n[i] * d) / 2) * np.log(2*np.pi*cl_var) -\n",
    "             ((n[i] - 1) * d/ 2) for i in range(m)]) - const_term\n",
    "\n",
    "    return(BIC)"
   ]
  },
  {
   "cell_type": "code",
   "execution_count": 2,
   "metadata": {},
   "outputs": [],
   "source": [
    "# X = df['vdy.velocity'].dropna().values\n",
    "# X"
   ]
  },
  {
   "cell_type": "code",
   "execution_count": 3,
   "metadata": {},
   "outputs": [],
   "source": [
    "# X1= X.reshape(-1, 1)\n",
    "# X1"
   ]
  },
  {
   "cell_type": "code",
   "execution_count": 4,
   "metadata": {},
   "outputs": [],
   "source": [
    "# X2= X.reshape(1, -1)\n",
    "# X2"
   ]
  },
  {
   "cell_type": "code",
   "execution_count": 5,
   "metadata": {},
   "outputs": [],
   "source": [
    "# Xs1 = StandardScaler().fit_transform(X1)\n",
    "# Xs1"
   ]
  },
  {
   "cell_type": "code",
   "execution_count": 6,
   "metadata": {},
   "outputs": [],
   "source": [
    "# Xs2 = StandardScaler().fit_transform(X2)\n",
    "# Xs2"
   ]
  },
  {
   "cell_type": "code",
   "execution_count": 1,
   "metadata": {},
   "outputs": [],
   "source": [
    "\n",
    "\n",
    "# ks = range(1,10)\n",
    "\n",
    "# # run 9 times kmeans and save each result in the KMeans object\n",
    "# KMeans = [cluster.KMeans(n_clusters = i, init=\"k-means++\").fit(X) for i in ks]\n",
    "\n",
    "# # now run for each cluster the BIC computation\n",
    "# BIC = [compute_bic(kmeansi,X) for kmeansi in KMeans]\n",
    "\n",
    "# print(BIC)"
   ]
  },
  {
   "cell_type": "code",
   "execution_count": 12,
   "metadata": {},
   "outputs": [
    {
     "name": "stdout",
     "output_type": "stream",
     "text": [
      "[-751777.8099389874, -761306.6146474819, -759565.1287761589, -755172.0860471558, -761671.259818132, -755486.4331640106, -757243.35513264, -757216.7041175995, -752477.2341892689]\n"
     ]
    }
   ],
   "source": [
    "\n",
    "#Y = iris.target\n",
    "\n",
    "ks = range(1,10)\n",
    "\n",
    "# run 9 times kmeans and save each result in the KMeans object\n",
    "KMeans = [cluster.KMeans(n_clusters = i, init=\"k-means++\").fit(X1) for i in ks]\n",
    "\n",
    "# now run for each cluster the BIC computation\n",
    "BIC = [compute_bic(kmeansi,X1) for kmeansi in KMeans]\n",
    "\n",
    "print(BIC)"
   ]
  },
  {
   "cell_type": "code",
   "execution_count": 14,
   "metadata": {},
   "outputs": [
    {
     "name": "stdout",
     "output_type": "stream",
     "text": [
      "[-273828.99587498966, -283357.7703514899, -281538.2515270684, -277232.88433788763, -284201.5552995086, -277456.98588378273, -279081.81287367776, -279330.1216124322, -274297.02898125607]\n"
     ]
    }
   ],
   "source": [
    "\n",
    "\n",
    "ks = range(1,10)\n",
    "\n",
    "# run 9 times kmeans and save each result in the KMeans object\n",
    "KMeans = [cluster.KMeans(n_clusters = i, init=\"k-means++\").fit(Xs1) for i in ks]\n",
    "\n",
    "# now run for each cluster the BIC computation\n",
    "BIC = [compute_bic(kmeansi,Xs1) for kmeansi in KMeans]\n",
    "\n",
    "print(BIC)"
   ]
  },
  {
   "cell_type": "code",
   "execution_count": null,
   "metadata": {},
   "outputs": [],
   "source": []
  },
  {
   "cell_type": "code",
   "execution_count": 31,
   "metadata": {},
   "outputs": [],
   "source": [
    "from sklearn.mixture import GaussianMixture\n",
    "n_clusts = [i for i  in range(1,12)]"
   ]
  },
  {
   "cell_type": "code",
   "execution_count": 47,
   "metadata": {},
   "outputs": [
    {
     "name": "stdout",
     "output_type": "stream",
     "text": [
      "aic: 1503535.2792642375\n",
      "bic: 1503555.619875361\n",
      " \n",
      "aic: 1486188.6157034829\n",
      "bic: 1486239.4672312916\n",
      " \n",
      "aic: 1430247.024954553\n",
      "bic: 1430328.387399047\n",
      " \n",
      "aic: 1464597.4855325923\n",
      "bic: 1464709.3588937712\n",
      " \n",
      "aic: 1425737.4186231964\n",
      "bic: 1425879.8029010606\n",
      " \n",
      "aic: 1423346.7136492643\n",
      "bic: 1423519.6088438137\n",
      " \n",
      "aic: 1421710.359564944\n",
      "bic: 1421913.7656761785\n",
      " \n",
      "aic: 1420302.862476565\n",
      "bic: 1420536.7795044847\n",
      " \n",
      "aic: 1420009.406249933\n",
      "bic: 1420273.834194538\n",
      " \n",
      "aic: 1417518.63283382\n",
      "bic: 1417813.57169511\n",
      " \n",
      "aic: 1417013.521027073\n",
      "bic: 1417338.9708050482\n",
      " \n"
     ]
    }
   ],
   "source": [
    "for i in n_clusts:\n",
    "    model = GaussianMixture(n_components= i, init_params='kmeans')\n",
    "    model.fit(X1)\n",
    "    print(\"aic:\" , model.aic(X1))\n",
    "    print(\"bic:\", model.bic(X1))\n",
    "    print(\" \")"
   ]
  },
  {
   "cell_type": "code",
   "execution_count": 51,
   "metadata": {},
   "outputs": [],
   "source": [
    "x=[]\n",
    "for i in range(0,len(X1)):\n",
    "    x.append(i)"
   ]
  },
  {
   "cell_type": "code",
   "execution_count": 52,
   "metadata": {},
   "outputs": [
    {
     "data": {
      "text/plain": [
       "192973"
      ]
     },
     "execution_count": 52,
     "metadata": {},
     "output_type": "execute_result"
    }
   ],
   "source": [
    "len(X1)"
   ]
  },
  {
   "cell_type": "code",
   "execution_count": 58,
   "metadata": {},
   "outputs": [],
   "source": [
    "y=[]\n",
    "import random\n",
    "c = 0\n",
    "for i in X1:\n",
    "    c+=1\n",
    "    if c ==300:\n",
    "        c=0\n",
    "    else:\n",
    "        continue\n",
    "    y.append(i)    \n",
    "x=[]\n",
    "for i in range(643):   #len(y)=643\n",
    "    x.append(i)"
   ]
  },
  {
   "cell_type": "code",
   "execution_count": 59,
   "metadata": {},
   "outputs": [
    {
     "data": {
      "text/plain": [
       "<matplotlib.collections.PathCollection at 0x7f575347cac8>"
      ]
     },
     "execution_count": 59,
     "metadata": {},
     "output_type": "execute_result"
    },
    {
     "data": {
      "image/png": "[encoded data removed]",
      "text/plain": [
       "<Figure size 432x288 with 1 Axes>"
      ]
     },
     "metadata": {},
     "output_type": "display_data"
    }
   ],
   "source": [
    "plt.scatter(x= x, y=y)"
   ]
  },
  {
   "cell_type": "code",
   "execution_count": 57,
   "metadata": {},
   "outputs": [
    {
     "data": {
      "text/plain": [
       "643"
      ]
     },
     "execution_count": 57,
     "metadata": {},
     "output_type": "execute_result"
    }
   ],
   "source": [
    "len(y)"
   ]
  },
  {
   "cell_type": "code",
   "execution_count": null,
   "metadata": {},
   "outputs": [],
   "source": []
  },
  {
   "cell_type": "code",
   "execution_count": 91,
   "metadata": {},
   "outputs": [],
   "source": [
    "data = df['vdy.velocity'].values\n",
    "from scipy.cluster.vq import kmeans,vq\n",
    "centroids,labels = kmeans(data, 2 ) # len(mi) =5 (no. of peaks)\n",
    "idx,_ = vq(data,centroids)"
   ]
  },
  {
   "cell_type": "code",
   "execution_count": 7,
   "metadata": {},
   "outputs": [],
   "source": [
    "# df2= pd.DataFrame({'idx':idx,'velocity':data})\n",
    "# df2.head()"
   ]
  },
  {
   "cell_type": "code",
   "execution_count": 93,
   "metadata": {},
   "outputs": [
    {
     "data": {
      "text/plain": [
       "array([0, 1])"
      ]
     },
     "execution_count": 93,
     "metadata": {},
     "output_type": "execute_result"
    }
   ],
   "source": [
    "df2.idx.unique()"
   ]
  },
  {
   "cell_type": "code",
   "execution_count": 94,
   "metadata": {},
   "outputs": [],
   "source": [
    "#0\n",
    "v1=[]\n",
    "for _,row in df2.iterrows():\n",
    "    if row['idx'] == 0:\n",
    "        v1.append(row['velocity'])\n",
    "#1\n",
    "v2=[]\n",
    "for _,row in df2.iterrows():\n",
    "    if row['idx'] == 1:\n",
    "        v2.append(row['velocity'])        "
   ]
  },
  {
   "cell_type": "code",
   "execution_count": 95,
   "metadata": {},
   "outputs": [
    {
     "data": {
      "text/plain": [
       "(107164, 85809, 192973)"
      ]
     },
     "execution_count": 95,
     "metadata": {},
     "output_type": "execute_result"
    }
   ],
   "source": [
    "len(v1), len(v2), len(v1)+len(v2)"
   ]
  },
  {
   "cell_type": "code",
   "execution_count": 96,
   "metadata": {},
   "outputs": [
    {
     "data": {
      "text/plain": [
       "(21.199995040893555, 53.28174591064453)"
      ]
     },
     "execution_count": 96,
     "metadata": {},
     "output_type": "execute_result"
    }
   ],
   "source": [
    "max(v1) , max(v2)"
   ]
  },
  {
   "cell_type": "code",
   "execution_count": 97,
   "metadata": {},
   "outputs": [
    {
     "data": {
      "image/png": "[encoded data removed]",
      "text/plain": [
       "<Figure size 720x720 with 1 Axes>"
      ]
     },
     "metadata": {},
     "output_type": "display_data"
    }
   ],
   "source": [
    "plt.figure(figsize=(10,10))\n",
    "plt.axvline(max(v1),linestyle='--',color='r')\n",
    "plt.axvline(max(v2),linestyle='--',color='r')\n",
    "\n",
    "sns.distplot(df['vdy.velocity'], kde=True, hist=False)\n",
    "plt.title(\"Data Divided by X-Means Clustering (k=2)\" , fontsize=20)\n",
    "plt.xlabel('Vdy.Velocity', fontsize=12)\n",
    "plt.ylabel('Peak Density', fontsize=12)\n",
    "plt.savefig('X-means Clustering (k=2).jpg')"
   ]
  },
  {
   "cell_type": "code",
   "execution_count": 98,
   "metadata": {},
   "outputs": [],
   "source": [
    "y=[]\n",
    "import random\n",
    "c = 0\n",
    "for i in v1:\n",
    "    c+=1\n",
    "    if c ==300:\n",
    "        c=0\n",
    "    else:\n",
    "        continue\n",
    "    y.append(i)"
   ]
  },
  {
   "cell_type": "code",
   "execution_count": 99,
   "metadata": {},
   "outputs": [
    {
     "data": {
      "text/plain": [
       "643"
      ]
     },
     "execution_count": 99,
     "metadata": {},
     "output_type": "execute_result"
    }
   ],
   "source": [
    "c = 0\n",
    "for i in v2:\n",
    "    c+=1\n",
    "    if c ==300:\n",
    "        c=0\n",
    "    else:\n",
    "        continue\n",
    "    y.append(i)\n",
    "len(y)"
   ]
  },
  {
   "cell_type": "code",
   "execution_count": 100,
   "metadata": {},
   "outputs": [],
   "source": [
    "x = range(643)"
   ]
  },
  {
   "cell_type": "code",
   "execution_count": 101,
   "metadata": {},
   "outputs": [
    {
     "data": {
      "image/png": "[encoded data removed]",
      "text/plain": [
       "<Figure size 432x288 with 1 Axes>"
      ]
     },
     "metadata": {},
     "output_type": "display_data"
    }
   ],
   "source": [
    "plt.scatter(x= x, y=y)\n",
    "plt.title('No. of clusters=2')\n",
    "plt.ylabel('velocity value')\n",
    "plt.xlabel('x')\n",
    "plt.savefig('X_means1.jpg')"
   ]
  },
  {
   "cell_type": "code",
   "execution_count": null,
   "metadata": {},
   "outputs": [],
   "source": []
  },
  {
   "cell_type": "code",
   "execution_count": 32,
   "metadata": {},
   "outputs": [],
   "source": [
    "data = df['vdy.velocity'].values\n",
    "from scipy.cluster.vq import kmeans,vq\n",
    "centroids,labels = kmeans(data, 4 ) # len(mi) =5 (no. of peaks)\n",
    "idx,_ = vq(data,centroids)"
   ]
  },
  {
   "cell_type": "code",
   "execution_count": 33,
   "metadata": {},
   "outputs": [
    {
     "data": {
      "text/html": [
       "<div>\n",
       "<style scoped>\n",
       "    .dataframe tbody tr th:only-of-type {\n",
       "        vertical-align: middle;\n",
       "    }\n",
       "\n",
       "    .dataframe tbody tr th {\n",
       "        vertical-align: top;\n",
       "    }\n",
       "\n",
       "    .dataframe thead th {\n",
       "        text-align: right;\n",
       "    }\n",
       "</style>\n",
       "<table border=\"1\" class=\"dataframe\">\n",
       "  <thead>\n",
       "    <tr style=\"text-align: right;\">\n",
       "      <th></th>\n",
       "      <th>idx</th>\n",
       "      <th>velocity</th>\n",
       "    </tr>\n",
       "  </thead>\n",
       "  <tbody>\n",
       "    <tr>\n",
       "      <th>0</th>\n",
       "      <td>1</td>\n",
       "      <td>14.076314</td>\n",
       "    </tr>\n",
       "    <tr>\n",
       "      <th>1</th>\n",
       "      <td>1</td>\n",
       "      <td>12.634358</td>\n",
       "    </tr>\n",
       "    <tr>\n",
       "      <th>2</th>\n",
       "      <td>1</td>\n",
       "      <td>13.949627</td>\n",
       "    </tr>\n",
       "    <tr>\n",
       "      <th>3</th>\n",
       "      <td>1</td>\n",
       "      <td>14.012307</td>\n",
       "    </tr>\n",
       "    <tr>\n",
       "      <th>4</th>\n",
       "      <td>1</td>\n",
       "      <td>13.885149</td>\n",
       "    </tr>\n",
       "  </tbody>\n",
       "</table>\n",
       "</div>"
      ],
      "text/plain": [
       "   idx   velocity\n",
       "0    1  14.076314\n",
       "1    1  12.634358\n",
       "2    1  13.949627\n",
       "3    1  14.012307\n",
       "4    1  13.885149"
      ]
     },
     "execution_count": 33,
     "metadata": {},
     "output_type": "execute_result"
    }
   ],
   "source": [
    "df2= pd.DataFrame({'idx':idx,'velocity':data})\n",
    "df2.head()"
   ]
  },
  {
   "cell_type": "code",
   "execution_count": 34,
   "metadata": {},
   "outputs": [
    {
     "data": {
      "text/plain": [
       "array([1, 2, 3, 0])"
      ]
     },
     "execution_count": 34,
     "metadata": {},
     "output_type": "execute_result"
    }
   ],
   "source": [
    "df2.idx.unique()"
   ]
  },
  {
   "cell_type": "code",
   "execution_count": 35,
   "metadata": {},
   "outputs": [],
   "source": [
    "#0\n",
    "v1=[]\n",
    "for _,row in df2.iterrows():\n",
    "    if row['idx'] == 0:\n",
    "        v1.append(row['velocity'])\n",
    "#1\n",
    "v2=[]\n",
    "for _,row in df2.iterrows():\n",
    "    if row['idx'] == 1:\n",
    "        v2.append(row['velocity'])\n",
    "        \n",
    "v3=[]\n",
    "for _,row in df2.iterrows():\n",
    "    if row['idx'] == 2:\n",
    "        v3.append(row['velocity'])      \n",
    "\n",
    "v4=[]\n",
    "for _,row in df2.iterrows():\n",
    "    if row['idx'] == 3:\n",
    "        v4.append(row['velocity'])"
   ]
  },
  {
   "cell_type": "code",
   "execution_count": 38,
   "metadata": {},
   "outputs": [
    {
     "data": {
      "text/plain": [
       "(277.7721518987342,\n",
       " 384.4240506329114,\n",
       " 245.51898734177215,\n",
       " 313.63291139240505,\n",
       " 182211)"
      ]
     },
     "execution_count": 38,
     "metadata": {},
     "output_type": "execute_result"
    }
   ],
   "source": [
    "len(v1)/158, len(v2)/158, len(v3)/158, len(v4)/158, len(v1)+len(v2)+len(v3)+len(v3)\n"
   ]
  },
  {
   "cell_type": "code",
   "execution_count": 37,
   "metadata": {},
   "outputs": [
    {
     "data": {
      "text/plain": [
       "(30.0386905670166, 19.56413459777832, 8.91291618347168, 53.28174591064453)"
      ]
     },
     "execution_count": 37,
     "metadata": {},
     "output_type": "execute_result"
    }
   ],
   "source": [
    "max(v1) , max(v2), max(v3) , max(v4)"
   ]
  },
  {
   "cell_type": "code",
   "execution_count": 76,
   "metadata": {},
   "outputs": [],
   "source": [
    "y=[]\n",
    "import random\n",
    "c = 0\n",
    "for i in v1:\n",
    "    c+=1\n",
    "    if c ==271:\n",
    "        c=0\n",
    "    else:\n",
    "        continue\n",
    "    y.append(i)"
   ]
  },
  {
   "cell_type": "code",
   "execution_count": 77,
   "metadata": {},
   "outputs": [],
   "source": [
    "c = 0\n",
    "for i in v2:\n",
    "    c+=1\n",
    "    if c ==380:\n",
    "        c=0\n",
    "    else:\n",
    "        continue\n",
    "    y.append(i)\n",
    "c = 0\n",
    "for i in v3:\n",
    "    c+=1\n",
    "    if c ==239:\n",
    "        c=0\n",
    "    else:\n",
    "        continue\n",
    "    y.append(i)\n",
    "c = 0\n",
    "for i in v4:\n",
    "    c+=1\n",
    "    if c ==307:\n",
    "        c=0\n",
    "    else:\n",
    "        continue\n",
    "    y.append(i)    "
   ]
  },
  {
   "cell_type": "code",
   "execution_count": 78,
   "metadata": {},
   "outputs": [
    {
     "data": {
      "text/plain": [
       "643"
      ]
     },
     "execution_count": 78,
     "metadata": {},
     "output_type": "execute_result"
    }
   ],
   "source": [
    "len(y)"
   ]
  },
  {
   "cell_type": "code",
   "execution_count": 79,
   "metadata": {},
   "outputs": [],
   "source": [
    "x=range(643)"
   ]
  },
  {
   "cell_type": "code",
   "execution_count": 90,
   "metadata": {},
   "outputs": [
    {
     "data": {
      "image/png": "[encoded data removed]",
      "text/plain": [
       "<Figure size 432x288 with 1 Axes>"
      ]
     },
     "metadata": {},
     "output_type": "display_data"
    }
   ],
   "source": [
    "plt.scatter(x= x, y=y)\n",
    "plt.title('No. of clusters=4')\n",
    "plt.ylabel('velocity value')\n",
    "plt.xlabel('x')\n",
    "plt.savefig('X_means2.jpg')"
   ]
  },
  {
   "cell_type": "code",
   "execution_count": null,
   "metadata": {},
   "outputs": [],
   "source": []
  }
 ],
 "metadata": {
  "kernelspec": {
   "display_name": "Python 3",
   "language": "python",
   "name": "python3"
  },
  "language_info": {
   "codemirror_mode": {
    "name": "ipython",
    "version": 3
   },
   "file_extension": ".py",
   "mimetype": "text/x-python",
   "name": "python",
   "nbconvert_exporter": "python",
   "pygments_lexer": "ipython3",
   "version": "3.8.5"
  }
 },
 "nbformat": 4,
 "nbformat_minor": 2
}
