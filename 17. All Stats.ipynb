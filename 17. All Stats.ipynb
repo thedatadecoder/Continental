{
 "cells": [
  {
   "cell_type": "code",
   "execution_count": 3,
   "metadata": {},
   "outputs": [],
   "source": [
    "import numpy as np\n",
    "import pandas as pd"
   ]
  },
  {
   "cell_type": "code",
   "execution_count": 1,
   "metadata": {},
   "outputs": [],
   "source": [
    "# df = pd.read_csv(r'/home/uia72388/Share_A/New Data/vels.csv')\n",
    "# df.head()"
   ]
  },
  {
   "cell_type": "code",
   "execution_count": 2,
   "metadata": {},
   "outputs": [],
   "source": [
    "# df.describe()"
   ]
  },
  {
   "cell_type": "code",
   "execution_count": 3,
   "metadata": {},
   "outputs": [],
   "source": [
    "# vels = np.array(df['vels'].dropna()).reshape(-1,1)\n",
    "# vels"
   ]
  },
  {
   "cell_type": "code",
   "execution_count": 9,
   "metadata": {},
   "outputs": [
    {
     "data": {
      "text/plain": [
       "11.90272290837005"
      ]
     },
     "execution_count": 9,
     "metadata": {},
     "output_type": "execute_result"
    }
   ],
   "source": [
    "std = np.std(vels)\n",
    "std"
   ]
  },
  {
   "cell_type": "code",
   "execution_count": 10,
   "metadata": {},
   "outputs": [
    {
     "data": {
      "text/plain": [
       "141.67481263343717"
      ]
     },
     "execution_count": 10,
     "metadata": {},
     "output_type": "execute_result"
    }
   ],
   "source": [
    "var = np.var(vels)\n",
    "var"
   ]
  },
  {
   "cell_type": "code",
   "execution_count": 11,
   "metadata": {},
   "outputs": [
    {
     "data": {
      "text/plain": [
       "19.88682348055353"
      ]
     },
     "execution_count": 11,
     "metadata": {},
     "output_type": "execute_result"
    }
   ],
   "source": [
    "mean = np.mean(vels)\n",
    "mean"
   ]
  },
  {
   "cell_type": "code",
   "execution_count": 12,
   "metadata": {},
   "outputs": [
    {
     "data": {
      "text/plain": [
       "59.852308338781256"
      ]
     },
     "execution_count": 12,
     "metadata": {},
     "output_type": "execute_result"
    }
   ],
   "source": [
    "cofvar = (std/mean)*100\n",
    "cofvar"
   ]
  },
  {
   "cell_type": "code",
   "execution_count": 13,
   "metadata": {},
   "outputs": [],
   "source": [
    "import scipy.stats as st"
   ]
  },
  {
   "cell_type": "code",
   "execution_count": 14,
   "metadata": {},
   "outputs": [],
   "source": [
    "#vels['vels'].value_counts()"
   ]
  },
  {
   "cell_type": "code",
   "execution_count": 15,
   "metadata": {},
   "outputs": [
    {
     "data": {
      "text/plain": [
       "ModeResult(mode=array([[0.]]), count=array([[8405]]))"
      ]
     },
     "execution_count": 15,
     "metadata": {},
     "output_type": "execute_result"
    }
   ],
   "source": [
    "mode = st.mode(vels)\n",
    "mode"
   ]
  },
  {
   "cell_type": "code",
   "execution_count": 16,
   "metadata": {},
   "outputs": [],
   "source": [
    "#help(scipy.stats.mode)"
   ]
  },
  {
   "cell_type": "code",
   "execution_count": 17,
   "metadata": {},
   "outputs": [
    {
     "data": {
      "text/plain": [
       "19.1628325"
      ]
     },
     "execution_count": 17,
     "metadata": {},
     "output_type": "execute_result"
    }
   ],
   "source": [
    "iqr = st.iqr(vels)\n",
    "iqr"
   ]
  },
  {
   "cell_type": "code",
   "execution_count": 5,
   "metadata": {},
   "outputs": [],
   "source": [
    "# rng = vels.max() - vels.min()\n",
    "# rng"
   ]
  },
  {
   "cell_type": "code",
   "execution_count": 4,
   "metadata": {},
   "outputs": [],
   "source": [
    "# zscores = st.zscore(vels)\n",
    "# zscores"
   ]
  },
  {
   "cell_type": "code",
   "execution_count": 20,
   "metadata": {},
   "outputs": [],
   "source": [
    "zscores = zscores.astype(float)"
   ]
  },
  {
   "cell_type": "code",
   "execution_count": 21,
   "metadata": {},
   "outputs": [
    {
     "data": {
      "text/plain": [
       "array([[-0.60931143],\n",
       "       [-0.49880995],\n",
       "       [-0.4935439 ],\n",
       "       ...,\n",
       "       [ 0.07084197],\n",
       "       [ 0.0690187 ],\n",
       "       [ 0.06756015]])"
      ]
     },
     "execution_count": 21,
     "metadata": {},
     "output_type": "execute_result"
    }
   ],
   "source": [
    "zscores"
   ]
  },
  {
   "cell_type": "code",
   "execution_count": null,
   "metadata": {},
   "outputs": [],
   "source": []
  },
  {
   "cell_type": "code",
   "execution_count": 69,
   "metadata": {},
   "outputs": [],
   "source": [
    "def summarystats(v):\n",
    "    mylist= [float(min(vels)), float(np.percentile(v, 25)), float(np.percentile(v, 50)), float(np.percentile(v, 75)), float(max(vels)),\n",
    "             float(np.mean(v)), float(np.median(v)), st.mode(v), float(v.count()), float(max(v)-min(v)), float( np.percentile(v, 75)-np.percentile(v, 25) ),\n",
    "             float(np.std(v)), float(np.var(v)), float(((np.std(v))/(np.mean(v)))*100) ]\n",
    "    d= {'Stat Values': mylist}\n",
    "    listnames = ['Min', 'First Quartile: Q1 (25%)', 'Second Quartile: Q2 (50%)', 'Third Quartile: Q3 (75%)', 'Max',\n",
    "                'Mean', 'Median', 'Mode', 'Count', 'Range', 'IQR', 'StdDev', 'Variance', 'Coeff. of Variation']\n",
    "    \n",
    "    return ( pd.DataFrame(data= d, index= listnames) )"
   ]
  },
  {
   "cell_type": "code",
   "execution_count": 171,
   "metadata": {},
   "outputs": [],
   "source": [
    "class distribution():\n",
    "    def __init__(self,yourarray):\n",
    "        self.yourarray = yourarray\n",
    "        \n",
    "    def distribution_mean(self, yourarray):\n",
    "        v = sorted(yourarray)\n",
    "        fit = st.norm.pdf(v,np.mean(v), np.std(v))\n",
    "        pl.plot(v,fit,'--')\n",
    "        pl.hist(v,normed=True)\n",
    "        plt.axvline( (np.mean(v)- 2*(np.std(v)) ))\n",
    "        plt.axvline( (np.mean(v) + 2*(np.std(v)) ))\n",
    "        pl.show()\n",
    "    def distribution_med(self, yourarray):\n",
    "        v = sorted(yourarray)\n",
    "        fit = st.norm.pdf(v,np.median(v), np.std(v))\n",
    "        pl.plot(v,fit,'--')\n",
    "        pl.hist(v,normed=True)\n",
    "        plt.axvline( (np.median(v)- 2*(np.std(v)) ))\n",
    "        plt.axvline( (np.median(v) + 2*(np.std(v)) ))\n",
    "        pl.show()    "
   ]
  },
  {
   "cell_type": "code",
   "execution_count": null,
   "metadata": {},
   "outputs": [],
   "source": []
  },
  {
   "cell_type": "code",
   "execution_count": 148,
   "metadata": {},
   "outputs": [],
   "source": [
    "class Outliers():\n",
    "    def __init__(self,yourarray):\n",
    "        v=yourarray\n",
    "        self.mean = np.mean(v)\n",
    "        self.median = np.median(v)\n",
    "        self.std = np.std(v)\n",
    "    def outliers_zscore(self,v):\n",
    "        threshold =3.0\n",
    "        self.zscores = [(i- self.mean)/self.std for i in v]\n",
    "        self.outliers = np.where(np.abs(self.zscores) > threshold)\n",
    "        return self\n",
    "    def outliers_modified_zscore(self,v):\n",
    "        threshold = 3.5\n",
    "        median_y = self.median\n",
    "        median_absolute_deviation_y = np.median([np.abs(y - median_y) for y in v])\n",
    "        modified_z_scores = [0.6745 * (y - median_y) / median_absolute_deviation_y\n",
    "                             for y in ys]\n",
    "        outliers= np.where(np.abs(modified_z_scores) > threshold)\n",
    "        return self\n",
    "    def outliers_iqr(self,v):\n",
    "        quartile_1, quartile_3 = np.percentile(v, [25, 75])\n",
    "        iqr = quartile_3 - quartile_1\n",
    "        lower_bound = quartile_1 - (iqr * 1.5)\n",
    "        upper_bound = quartile_3 + (iqr * 1.5)\n",
    "        self.outliers= np.where((v > upper_bound) | (v < lower_bound))\n",
    "        return self\n",
    "\n",
    "    def outliers_std(self,v):\n",
    "        self.outliersmean=[]\n",
    "        self.outliersmedian=[]\n",
    "        for x in v:\n",
    "            if ( (x < (mean - (2 * std))) or (x > (mean + (2 * std))) ) :\n",
    "                self.outliersmean.append(x)\n",
    "            if ( (x < (med - (2 * std))) or (x > (med + (2 * std))) ) : \n",
    "                self.outliersmean.append(x)\n",
    "            else:\n",
    "                continue\n",
    "        #print('outliers_by_mean :', outliers1)   \n",
    "        #print('outliers_by_median :', outliers2)\n",
    "        return self\n",
    "    "
   ]
  },
  {
   "cell_type": "code",
   "execution_count": 132,
   "metadata": {},
   "outputs": [],
   "source": [
    "# st.zscore(vels)\n",
    "# outliers=[]\n",
    "# for i in zscores:\n",
    "#     if (i> 3.0 or i< -3.0):\n",
    "#         outliers.append(i)\n",
    "#     else:\n",
    "#         continue\n",
    "\n",
    "def outliers_zscore(y):\n",
    "    threshold =3.0\n",
    "    mean = np.mean(y)\n",
    "    std = np.std(y)\n",
    "    zscores = [(i- mean)/std for i in y]\n",
    "    outliers = np.where(np.abs(zscores) > threshold)\n",
    "    return zscores, outliers\n",
    "def outliers_modified_zscore(ys):\n",
    "    threshold = 3.5\n",
    "    median_y = np.median(ys)\n",
    "    median_absolute_deviation_y = np.median([np.abs(y - median_y) for y in ys])\n",
    "    modified_z_scores = [0.6745 * (y - median_y) / median_absolute_deviation_y\n",
    "                         for y in ys]\n",
    "    return np.where(np.abs(modified_z_scores) > threshold)\n",
    "\n",
    "def outliers_iqr(v):\n",
    "    quartile_1, quartile_3 = np.percentile(v, [25, 75])\n",
    "    iqr = quartile_3 - quartile_1\n",
    "    lower_bound = quartile_1 - (iqr * 1.5)\n",
    "    upper_bound = quartile_3 + (iqr * 1.5)\n",
    "    outliers= np.where((v > upper_bound) | (v < lower_bound))\n",
    "    return outliers\n",
    "\n",
    "def outliers_std(v):\n",
    "    outliers1=[]\n",
    "    outliers2=[]\n",
    "    mean = np.mean(v)\n",
    "    std = np.std(v)\n",
    "    med = np.median(v)\n",
    "    for x in v:\n",
    "        if ( (x < (mean - (2 * std))) or (x > (mean + (2 * std))) ) :\n",
    "            outliers.append(x)\n",
    "        if ( (x < (med - (2 * std))) or (x > (mean + (2 * std))) ) :    \n",
    "        else:\n",
    "            continue\n",
    "    print('outliers_by_mean :', outliers1)   \n",
    "    print('outliers_by_median :', outliers2)\n"
   ]
  },
  {
   "cell_type": "code",
   "execution_count": 210,
   "metadata": {},
   "outputs": [],
   "source": [
    "# import numpy\n",
    "\n",
    "# arr = [10, 386, 479, 627, 20, 523, 482, 483, 542, 699, 535, 617, 577, 471, 615, 583, 441, 562, 563, 527, 453, 530, 433, 541, 585, 704, 443, 569, 430, 637, 331, 511, 552, 496, 484, 566, 554, 472, 335, 440, 579, 341, 545, 615, 548, 604, 439, 556, 442, 461, 624, 611, 444, 578, 405, 487, 490, 496, 398, 512, 422, 455, 449, 432, 607, 679, 434, 597, 639, 565, 415, 486, 668, 414, 665, 763, 557, 304, 404, 454, 689, 610, 483, 441, 657, 590, 492, 476, 437, 483, 529, 363, 711, 543]\n",
    "\n",
    "# elements = numpy.array(arr)\n",
    "\n",
    "# mean = numpy.mean(elements, axis=0)\n",
    "# sd = numpy.std(elements, axis=0)\n",
    "\n",
    "# final_list = [x for x in arr if (x > mean - 2 * sd)]\n",
    "# final_list = [x for x in final_list if (x < mean + 2 * sd)]\n",
    "# print(final_list)"
   ]
  },
  {
   "cell_type": "code",
   "execution_count": 60,
   "metadata": {},
   "outputs": [],
   "source": [
    "# for i, x in enumerate(new.columns):\n",
    "#     print(i, x)\n",
    "    \n",
    "    \n",
    "# cols = new.columns\n",
    "# req_col = ['image.raw.hash']\n",
    "# for i in cols:\n",
    "#     if i.endswith('x0') or i.endswith('y0') or i.endswith('x1') or i.endswith('y1') or i.endswith('class'):\n",
    "#         req_col.append(i)\n",
    "\n",
    "\n",
    "\n",
    "# #newcol = ['image_hash']\n",
    "# new_cols = map(lambda x : x.replace('annotations.','').replace('label.','') ,req_col)\n",
    "# new_cols = list(new_cols)\n",
    "# new_cols[0] = 'image_hash'\n",
    "\n",
    "\n",
    "\n",
    "\n",
    "# d = {}\n",
    "# for x,y in zip(req_col, new_cols):\n",
    "#     d[x] = y\n",
    "\n",
    "\n",
    "\n",
    "    "
   ]
  },
  {
   "cell_type": "code",
   "execution_count": 39,
   "metadata": {},
   "outputs": [],
   "source": [
    "# from sklearn.preprocessing import StandardScaler as ss\n",
    "# sc = ss()\n",
    "# sc.fit(np.array(vels).reshape(-1,1))\n",
    "# nvels =sc.transform(np.array(vels).reshape(-1,1))\n",
    "# nvels"
   ]
  },
  {
   "cell_type": "code",
   "execution_count": 40,
   "metadata": {},
   "outputs": [],
   "source": [
    "# fit = st.norm.pdf(nvels,np.mean(nvels),np.std(nvels))\n",
    "# pl.plot(nvels,fit,'-o')\n",
    "# pl.hist(nvels,normed=True)\n",
    "# pl.show()"
   ]
  },
  {
   "cell_type": "code",
   "execution_count": 46,
   "metadata": {},
   "outputs": [
    {
     "data": {
      "text/plain": [
       "(KurtosistestResult(statistic=-230.28718583075, pvalue=0.0),\n",
       " -1.0328718864213216,\n",
       " SkewtestResult(statistic=4.15455178157885, pvalue=3.25925804034352e-05),\n",
       " 0.02320802208206018)"
      ]
     },
     "execution_count": 46,
     "metadata": {},
     "output_type": "execute_result"
    }
   ],
   "source": [
    "st.kurtosistest(v) , st.kurtosis(v), st.skewtest(v) , st.skew(v)"
   ]
  },
  {
   "cell_type": "code",
   "execution_count": 1,
   "metadata": {},
   "outputs": [],
   "source": [
    "import numpy as np\n",
    "import scipy as sp\n",
    "from scipy import stats as st\n",
    "import pylab as pl\n",
    "import matplotlib.pyplot as plt\n",
    "class AllStats():\n",
    "    def __init__(self,yourarray):\n",
    "        v=yourarray\n",
    "        self.mini= float(min(v))\n",
    "        self.q1 = float(np.percentile(v, 25))\n",
    "        self.q2 = float(np.percentile(v, 50))\n",
    "        self.q3 = float(np.percentile(v, 75))\n",
    "        self.maxi= float(max(v))\n",
    "        self.mean= float(np.mean(v))\n",
    "        self.median= float(np.median(v))\n",
    "        self.mode= st.mode(v)\n",
    "        self.count= v.shape\n",
    "        self.range= float(max(v)-min(v))\n",
    "        self.iqr = float( np.percentile(v, 75)-np.percentile(v, 25) )\n",
    "        self.std= float(np.std(v))\n",
    "        self.var= float(np.var(v))\n",
    "        self.coeffvar= float(((np.std(v))/(np.mean(v)))*100)\n",
    "        self.skewness = float(st.skew(v))\n",
    "        self.skewtest = st.skewtest(v)\n",
    "        self.kurtosis= float(st.kurtosis(v))\n",
    "        self.kurttest= st.kurtosistest(v)\n",
    "        self.vsort = sorted(v)\n",
    "        \n",
    "        \n",
    "    def summarystats(self, v):\n",
    "        mylist= [self.mini, self.q1, self.q2, self.q3, self.maxi, self.mean, self.median, self.mode, self.count,\n",
    "                 self.range, self.iqr, self.std, self.var, self.coeffvar, self.skewness, self.skewtest, \n",
    "                  self.kurtosis, self.kurttest]\n",
    "        d= {'Summary Statistics': mylist}\n",
    "        listnames = ['Min', 'First Quartile: Q1 (25%)', 'Second Quartile: Q2 (50%)', 'Third Quartile: Q3 (75%)', 'Max',\n",
    "                    'Mean', 'Median', 'Mode', 'Count', 'Range', 'IQR', 'StdDev', 'Variance', 'Coeff. of Variation',\n",
    "                    'Skewness', 'SkewnessTest', 'Kurtosis', 'KurtosisTest']\n",
    "\n",
    "        return ( pd.DataFrame(data= d, index= listnames) )  \n",
    "    \n",
    "    def outliers_zscore(self,v):\n",
    "        threshold =3.0\n",
    "        self.zscores = [(i- self.mean)/self.std for i in v]\n",
    "        self.outliers = np.where(np.abs(self.zscores) > threshold)\n",
    "        return self\n",
    "    def outliers_modified_zscore(self,v):\n",
    "        threshold = 3.5\n",
    "        median_y = self.median\n",
    "        median_absolute_deviation_y = np.median([np.abs(y - median_y) for y in v])\n",
    "        modified_z_scores = [0.6745 * (y - median_y) / median_absolute_deviation_y\n",
    "                             for y in ys]\n",
    "        outliers= np.where(np.abs(modified_z_scores) > threshold)\n",
    "        return self\n",
    "    def outliers_iqr(self,v):\n",
    "        quartile_1, quartile_3 = np.percentile(v, [25, 75])\n",
    "        iqr = quartile_3 - quartile_1\n",
    "        lower_bound = quartile_1 - (iqr * 1.5)\n",
    "        upper_bound = quartile_3 + (iqr * 1.5)\n",
    "        self.outliers= np.where((v > upper_bound) | (v < lower_bound))\n",
    "        return self\n",
    "\n",
    "    def outliers_std(self,v):\n",
    "        self.outliersmean=[]\n",
    "        self.outliersmedian=[]\n",
    "        for x in v:\n",
    "            if ( (x < (mean - (2 * std))) or (x > (mean + (2 * std))) ) :\n",
    "                self.outliersmean.append(x)\n",
    "            if ( (x < (med - (2 * std))) or (x > (med + (2 * std))) ) : \n",
    "                self.outliersmedian.append(x)\n",
    "            else:\n",
    "                continue\n",
    "        #print('outliers_by_mean :', outliers1)   \n",
    "        #print('outliers_by_median :', outliers2)\n",
    "        return self\n",
    "    \n",
    "    def distribution_mean(self, v):\n",
    "        #v = sorted(v)\n",
    "        fit = st.norm.pdf(self.vsort, self.mean, self.std)\n",
    "        pl.plot(self.vsort,fit,'--')\n",
    "        pl.hist(self.vsort,normed=True)\n",
    "        plt.axvline( (self.mean- 2*(self.std) ))\n",
    "        plt.axvline( (self.mean + 2*(self.std) ))\n",
    "        pl.show()      \n",
    "    def distribution_med(self, v):\n",
    "        fit = st.norm.pdf(self.vsort,self.median, self.std)\n",
    "        pl.plot(self.vsort,fit,'--')\n",
    "        pl.hist(self.vsort, density=True)\n",
    "        plt.axvline( self.median- 2*(self.std) )\n",
    "        plt.axvline( self.median + 2*(self.std) )\n",
    "        pl.show()  "
   ]
  },
  {
   "cell_type": "code",
   "execution_count": 6,
   "metadata": {},
   "outputs": [],
   "source": [
    "# obj= AllStats(vels)"
   ]
  },
  {
   "cell_type": "code",
   "execution_count": 7,
   "metadata": {},
   "outputs": [],
   "source": [
    "# obj.distribution_med(vels)"
   ]
  },
  {
   "cell_type": "code",
   "execution_count": null,
   "metadata": {},
   "outputs": [],
   "source": []
  },
  {
   "cell_type": "markdown",
   "metadata": {},
   "source": [
    "# Dropping features with 40-50% missing values:"
   ]
  },
  {
   "cell_type": "code",
   "execution_count": 8,
   "metadata": {},
   "outputs": [],
   "source": [
    "# import numpy as np\n",
    "# import pandas as pd\n",
    "# df = pd.read_csv(r'/home/uia72388/Share_A/New Data/MYDATA.csv', index_col=0)\n",
    "# df.head()"
   ]
  },
  {
   "cell_type": "code",
   "execution_count": 48,
   "metadata": {},
   "outputs": [
    {
     "name": "stdout",
     "output_type": "stream",
     "text": [
      "<class 'pandas.core.frame.DataFrame'>\n",
      "Int64Index: 192973 entries, 0 to 192972\n",
      "Columns: 291 entries, _id to weather.val\n",
      "dtypes: float64(129), int64(26), object(136)\n",
      "memory usage: 429.9+ MB\n"
     ]
    }
   ],
   "source": [
    "df.info()"
   ]
  },
  {
   "cell_type": "code",
   "execution_count": 49,
   "metadata": {},
   "outputs": [
    {
     "data": {
      "text/plain": [
       "192973"
      ]
     },
     "execution_count": 49,
     "metadata": {},
     "output_type": "execute_result"
    }
   ],
   "source": [
    "len(df)"
   ]
  },
  {
   "cell_type": "code",
   "execution_count": 9,
   "metadata": {},
   "outputs": [],
   "source": [
    "# df.dropna(thresh = len(df), axis=1).columns   #192973 non-null values"
   ]
  },
  {
   "cell_type": "code",
   "execution_count": 51,
   "metadata": {},
   "outputs": [],
   "source": [
    "df =df.dropna(thresh = len(df) - 0.6*len(df), axis=1) # 192973 - 0.6*192973"
   ]
  },
  {
   "cell_type": "code",
   "execution_count": 10,
   "metadata": {},
   "outputs": [],
   "source": [
    "# for i in df.columns:\n",
    "#     print(i)"
   ]
  },
  {
   "cell_type": "code",
   "execution_count": 11,
   "metadata": {},
   "outputs": [],
   "source": [
    "# df.head()"
   ]
  },
  {
   "cell_type": "code",
   "execution_count": 12,
   "metadata": {},
   "outputs": [],
   "source": [
    "# for i, x in enumerate(df.columns):\n",
    "#     print(i, x)"
   ]
  },
  {
   "cell_type": "code",
   "execution_count": 13,
   "metadata": {},
   "outputs": [],
   "source": [
    "# # df.columns[[1,2,5]]\n",
    "# # cols=[1,2,4,5]\n",
    "# data= df.drop(df.columns[[0,3,6,22,25,27,33,34,35,52]], axis=1)\n",
    "# data.head()"
   ]
  },
  {
   "cell_type": "markdown",
   "metadata": {},
   "source": [
    "# Checking Variances of Features and dropping features with very low Variance:"
   ]
  },
  {
   "cell_type": "code",
   "execution_count": 2,
   "metadata": {},
   "outputs": [
    {
     "data": {
      "text/plain": [
       "39"
      ]
     },
     "execution_count": 2,
     "metadata": {},
     "output_type": "execute_result"
    }
   ],
   "source": [
    "vneed=[]\n",
    "for i in df.columns:\n",
    "    if (df[i].isnull().sum()==0):\n",
    "        vneed.append(i)\n",
    "    else:\n",
    "        continue\n",
    "len(vneed)"
   ]
  },
  {
   "cell_type": "code",
   "execution_count": 3,
   "metadata": {},
   "outputs": [],
   "source": [
    "df = df.loc[:, vneed]"
   ]
  },
  {
   "cell_type": "code",
   "execution_count": 14,
   "metadata": {},
   "outputs": [],
   "source": [
    "# df['box0.classvalnew'] = df['box0.classval'].copy()\n",
    "# # do this by making dict mapping or df[df['box0.classval']==0] or df1['box0.classvalnew'].loc[df1['box0.classval'] ==0] = 1\n",
    "# df['box0.classvalnew'][np.where(df['box0.classval']==0)[0]] =1\n",
    "# df['box0.classvalnew'][np.where(df['box0.classval']==1)[0]] =2\n",
    "# df['box0.classvalnew'][np.where(df['box0.classval']==2)[0]] =3\n",
    "# df['box0.classvalnew'][np.where(df['box0.classval']==3)[0]] =4\n",
    "# df['box0.classvalnew'][np.where(df['box0.classval']==4)[0]] =5\n",
    "# df['box0.classvalnew'][np.where(df['box0.classval']==5)[0]] =6\n",
    "# df['box0.classvalnew'][np.where(df['box0.classval']==6)[0]] =7"
   ]
  },
  {
   "cell_type": "code",
   "execution_count": 5,
   "metadata": {},
   "outputs": [
    {
     "data": {
      "text/plain": [
       "(array([0, 1, 6, 4, 5, 2, 3]), array([1, 2, 7, 5, 6, 3, 4]))"
      ]
     },
     "execution_count": 5,
     "metadata": {},
     "output_type": "execute_result"
    }
   ],
   "source": [
    "df['box0.classval'].unique(), df['box0.classvalnew'].unique()"
   ]
  },
  {
   "cell_type": "code",
   "execution_count": 15,
   "metadata": {},
   "outputs": [],
   "source": [
    "# X= df.drop(['_id', 'box0.sign_class.', 'box0.signId', 'sourcefile', 'timestamp', 'vdy._id', 'box0.classval'], axis=1)\n",
    "# X.head()"
   ]
  },
  {
   "cell_type": "code",
   "execution_count": 7,
   "metadata": {},
   "outputs": [
    {
     "data": {
      "text/plain": [
       "(192973, 33)"
      ]
     },
     "execution_count": 7,
     "metadata": {},
     "output_type": "execute_result"
    }
   ],
   "source": [
    "from sklearn.preprocessing import MinMaxScaler\n",
    "scaler= MinMaxScaler()\n",
    "\n",
    "Xnorm = scaler.fit_transform(X.values)\n",
    "Xnorm.shape"
   ]
  },
  {
   "cell_type": "code",
   "execution_count": 8,
   "metadata": {},
   "outputs": [
    {
     "data": {
      "text/html": [
       "<div>\n",
       "<style scoped>\n",
       "    .dataframe tbody tr th:only-of-type {\n",
       "        vertical-align: middle;\n",
       "    }\n",
       "\n",
       "    .dataframe tbody tr th {\n",
       "        vertical-align: top;\n",
       "    }\n",
       "\n",
       "    .dataframe thead th {\n",
       "        text-align: right;\n",
       "    }\n",
       "</style>\n",
       "<table border=\"1\" class=\"dataframe\">\n",
       "  <thead>\n",
       "    <tr style=\"text-align: right;\">\n",
       "      <th></th>\n",
       "      <th>box0.area</th>\n",
       "      <th>box0.aspectratio</th>\n",
       "      <th>box0.sign_relation_main.</th>\n",
       "      <th>box0.height</th>\n",
       "      <th>box0.width</th>\n",
       "      <th>box0.x0</th>\n",
       "      <th>box0.x1</th>\n",
       "      <th>box0.y0</th>\n",
       "      <th>box0.y1</th>\n",
       "      <th>vdy.acceleration</th>\n",
       "      <th>...</th>\n",
       "      <th>box0.on_multi_sign_mounting.val</th>\n",
       "      <th>box0.twisted.val</th>\n",
       "      <th>country.val</th>\n",
       "      <th>light_conditions.val</th>\n",
       "      <th>roadType.val</th>\n",
       "      <th>road_works.val</th>\n",
       "      <th>street_conditions.val</th>\n",
       "      <th>tunnel.val</th>\n",
       "      <th>weather.val</th>\n",
       "      <th>box0.classvalnew</th>\n",
       "    </tr>\n",
       "  </thead>\n",
       "  <tbody>\n",
       "    <tr>\n",
       "      <th>0</th>\n",
       "      <td>0.002834</td>\n",
       "      <td>0.065286</td>\n",
       "      <td>0.067493</td>\n",
       "      <td>0.039286</td>\n",
       "      <td>0.037313</td>\n",
       "      <td>0.356960</td>\n",
       "      <td>0.364646</td>\n",
       "      <td>0.452381</td>\n",
       "      <td>0.420213</td>\n",
       "      <td>0.349715</td>\n",
       "      <td>...</td>\n",
       "      <td>0.0</td>\n",
       "      <td>0.0</td>\n",
       "      <td>0.166667</td>\n",
       "      <td>0.0</td>\n",
       "      <td>0.5</td>\n",
       "      <td>0.0</td>\n",
       "      <td>0.0</td>\n",
       "      <td>0.0</td>\n",
       "      <td>0.0</td>\n",
       "      <td>0.0</td>\n",
       "    </tr>\n",
       "    <tr>\n",
       "      <th>1</th>\n",
       "      <td>0.206575</td>\n",
       "      <td>0.064615</td>\n",
       "      <td>0.067493</td>\n",
       "      <td>0.378571</td>\n",
       "      <td>0.388060</td>\n",
       "      <td>0.003416</td>\n",
       "      <td>0.091375</td>\n",
       "      <td>0.301587</td>\n",
       "      <td>0.453901</td>\n",
       "      <td>0.428106</td>\n",
       "      <td>...</td>\n",
       "      <td>0.0</td>\n",
       "      <td>0.0</td>\n",
       "      <td>0.166667</td>\n",
       "      <td>0.5</td>\n",
       "      <td>0.5</td>\n",
       "      <td>0.0</td>\n",
       "      <td>0.0</td>\n",
       "      <td>0.0</td>\n",
       "      <td>0.0</td>\n",
       "      <td>0.0</td>\n",
       "    </tr>\n",
       "    <tr>\n",
       "      <th>2</th>\n",
       "      <td>0.003080</td>\n",
       "      <td>0.070511</td>\n",
       "      <td>0.067493</td>\n",
       "      <td>0.039286</td>\n",
       "      <td>0.041045</td>\n",
       "      <td>0.355252</td>\n",
       "      <td>0.363792</td>\n",
       "      <td>0.450397</td>\n",
       "      <td>0.418440</td>\n",
       "      <td>0.344836</td>\n",
       "      <td>...</td>\n",
       "      <td>0.0</td>\n",
       "      <td>0.0</td>\n",
       "      <td>0.166667</td>\n",
       "      <td>0.0</td>\n",
       "      <td>0.5</td>\n",
       "      <td>0.0</td>\n",
       "      <td>0.0</td>\n",
       "      <td>0.0</td>\n",
       "      <td>0.0</td>\n",
       "      <td>0.0</td>\n",
       "    </tr>\n",
       "    <tr>\n",
       "      <th>3</th>\n",
       "      <td>0.002834</td>\n",
       "      <td>0.065286</td>\n",
       "      <td>0.067493</td>\n",
       "      <td>0.039286</td>\n",
       "      <td>0.037313</td>\n",
       "      <td>0.356106</td>\n",
       "      <td>0.363792</td>\n",
       "      <td>0.450397</td>\n",
       "      <td>0.418440</td>\n",
       "      <td>0.346636</td>\n",
       "      <td>...</td>\n",
       "      <td>0.0</td>\n",
       "      <td>0.0</td>\n",
       "      <td>0.166667</td>\n",
       "      <td>0.0</td>\n",
       "      <td>0.5</td>\n",
       "      <td>0.0</td>\n",
       "      <td>0.0</td>\n",
       "      <td>0.0</td>\n",
       "      <td>0.0</td>\n",
       "      <td>0.0</td>\n",
       "    </tr>\n",
       "    <tr>\n",
       "      <th>4</th>\n",
       "      <td>0.003080</td>\n",
       "      <td>0.070511</td>\n",
       "      <td>0.067493</td>\n",
       "      <td>0.039286</td>\n",
       "      <td>0.041045</td>\n",
       "      <td>0.354398</td>\n",
       "      <td>0.362938</td>\n",
       "      <td>0.448413</td>\n",
       "      <td>0.416667</td>\n",
       "      <td>0.342682</td>\n",
       "      <td>...</td>\n",
       "      <td>0.0</td>\n",
       "      <td>0.0</td>\n",
       "      <td>0.166667</td>\n",
       "      <td>0.0</td>\n",
       "      <td>0.5</td>\n",
       "      <td>0.0</td>\n",
       "      <td>0.0</td>\n",
       "      <td>0.0</td>\n",
       "      <td>0.0</td>\n",
       "      <td>0.0</td>\n",
       "    </tr>\n",
       "  </tbody>\n",
       "</table>\n",
       "<p>5 rows × 33 columns</p>\n",
       "</div>"
      ],
      "text/plain": [
       "   box0.area  box0.aspectratio  box0.sign_relation_main.  box0.height  \\\n",
       "0   0.002834          0.065286                  0.067493     0.039286   \n",
       "1   0.206575          0.064615                  0.067493     0.378571   \n",
       "2   0.003080          0.070511                  0.067493     0.039286   \n",
       "3   0.002834          0.065286                  0.067493     0.039286   \n",
       "4   0.003080          0.070511                  0.067493     0.039286   \n",
       "\n",
       "   box0.width   box0.x0   box0.x1   box0.y0   box0.y1  vdy.acceleration  \\\n",
       "0    0.037313  0.356960  0.364646  0.452381  0.420213          0.349715   \n",
       "1    0.388060  0.003416  0.091375  0.301587  0.453901          0.428106   \n",
       "2    0.041045  0.355252  0.363792  0.450397  0.418440          0.344836   \n",
       "3    0.037313  0.356106  0.363792  0.450397  0.418440          0.346636   \n",
       "4    0.041045  0.354398  0.362938  0.448413  0.416667          0.342682   \n",
       "\n",
       "         ...         box0.on_multi_sign_mounting.val  box0.twisted.val  \\\n",
       "0        ...                                     0.0               0.0   \n",
       "1        ...                                     0.0               0.0   \n",
       "2        ...                                     0.0               0.0   \n",
       "3        ...                                     0.0               0.0   \n",
       "4        ...                                     0.0               0.0   \n",
       "\n",
       "   country.val  light_conditions.val  roadType.val  road_works.val  \\\n",
       "0     0.166667                   0.0           0.5             0.0   \n",
       "1     0.166667                   0.5           0.5             0.0   \n",
       "2     0.166667                   0.0           0.5             0.0   \n",
       "3     0.166667                   0.0           0.5             0.0   \n",
       "4     0.166667                   0.0           0.5             0.0   \n",
       "\n",
       "   street_conditions.val  tunnel.val  weather.val  box0.classvalnew  \n",
       "0                    0.0         0.0          0.0               0.0  \n",
       "1                    0.0         0.0          0.0               0.0  \n",
       "2                    0.0         0.0          0.0               0.0  \n",
       "3                    0.0         0.0          0.0               0.0  \n",
       "4                    0.0         0.0          0.0               0.0  \n",
       "\n",
       "[5 rows x 33 columns]"
      ]
     },
     "execution_count": 8,
     "metadata": {},
     "output_type": "execute_result"
    }
   ],
   "source": [
    "X2 = pd.DataFrame(Xnorm, columns=X.columns)\n",
    "X2.head()"
   ]
  },
  {
   "cell_type": "code",
   "execution_count": 15,
   "metadata": {},
   "outputs": [],
   "source": [
    "import random\n",
    "import math\n",
    "\n",
    "import scipy.stats as stats\n",
    "import matplotlib.pyplot as plt\n",
    "%matplotlib inline\n",
    "import seaborn as sns\n",
    "sns.set_style('whitegrid')"
   ]
  },
  {
   "cell_type": "code",
   "execution_count": 10,
   "metadata": {},
   "outputs": [],
   "source": [
    "sample_size = 192973\n",
    "\n",
    "intervals = []\n",
    "sample_means = []\n",
    "sample_stds = []\n",
    "sample_medians= []\n",
    "sample_vars=[]\n",
    "mins =[]\n",
    "maxs =[]\n",
    "for i in X2.columns:\n",
    "    mini = np.min(X2[i])\n",
    "    mins.append(mini)\n",
    "    \n",
    "    maxi = np.max(X2[i])\n",
    "    maxs.append(maxi)\n",
    "\n",
    "    sample_mean = np.mean(X2[i])\n",
    "    sample_means.append(sample_mean)\n",
    "    \n",
    "    sample_std = np.std(X2[i])  \n",
    "    sample_stds.append(sample_std)\n",
    "    \n",
    "    sample_var = np.var(X2[i])\n",
    "    sample_vars.append(sample_var)\n",
    "\n",
    "    sample_median = np.median(X2[i])\n",
    "    sample_medians.append(sample_median)\n",
    "\n",
    "    margin_of_error1 = [3*sample_std] #z_critical * (sample_std/math.sqrt(sample_size))\n",
    "    margin_of_error2 = [sample_var]\n",
    "\n",
    "    confidence_interval = (sample_median - margin_of_error2,\n",
    "                           sample_median + margin_of_error2)  \n",
    "    \n",
    "    intervals.append(confidence_interval)"
   ]
  },
  {
   "cell_type": "code",
   "execution_count": null,
   "metadata": {},
   "outputs": [],
   "source": [
    "\n",
    "plt.axvline(max(v1),linestyle='--',color='g')\n",
    "plt.axvline(max(v2),linestyle='--',color='g')\n",
    "plt.axvline(max(v3),linestyle='--',color='g')\n",
    "plt.axvline(max(v4),linestyle='--',color='g')\n",
    "plt.axvline(max(v5),linestyle='--',color='g')\n",
    "sns.distplot(df['vdy.velocity'], kde=True, hist=False)\n",
    "plt.title(\"Data Divided by Gaussian Mixture Modelling\" , fontsize=20)\n",
    "plt.xlabel('Vdy.Velocity', fontsize=12)\n",
    "plt.ylabel('Peak Density', fontsize=12)\n",
    "plt.savefig('GMM.jpg')"
   ]
  },
  {
   "cell_type": "code",
   "execution_count": null,
   "metadata": {},
   "outputs": [],
   "source": []
  },
  {
   "cell_type": "code",
   "execution_count": 19,
   "metadata": {},
   "outputs": [
    {
     "data": {
      "image/png": "[encoded data removed]",
      "text/plain": [
       "<Figure size 720x720 with 1 Axes>"
      ]
     },
     "metadata": {},
     "output_type": "display_data"
    }
   ],
   "source": [
    "plt.figure(figsize=(10,10))\n",
    "\n",
    "plt.errorbar(x=np.arange(0.1, 33, 1), \n",
    "             y=sample_medians, \n",
    "             yerr=[(top-bot)/2 for top,bot in intervals],\n",
    "             fmt='o')\n",
    "\n",
    "plt.hlines(xmin=0, xmax=32,\n",
    "           y=0, \n",
    "           linewidth=2.0,\n",
    "           color=\"red\")\n",
    "\n",
    "plt.title(\"Variance Plot\" , fontsize=20)\n",
    "plt.xlabel('Features', fontsize=15)\n",
    "plt.ylabel('Median ± Variance', fontsize=15)\n",
    "plt.xticks(range(0,33))\n",
    "plt.savefig('VarPlot.jpg')\n",
    "#plt.hlines(y=528.0, xmax=33, xmin=0)"
   ]
  },
  {
   "cell_type": "code",
   "execution_count": null,
   "metadata": {},
   "outputs": [],
   "source": []
  },
  {
   "cell_type": "code",
   "execution_count": 61,
   "metadata": {},
   "outputs": [
    {
     "data": {
      "text/plain": [
       "(192973, 16)"
      ]
     },
     "execution_count": 61,
     "metadata": {},
     "output_type": "execute_result"
    }
   ],
   "source": [
    "from sklearn.feature_selection import VarianceThreshold\n",
    "X = data.values\n",
    "sel = VarianceThreshold(threshold=(.8 * (1 - .8)))\n",
    "Xnew = sel.fit_transform(X)\n",
    "Xnew.shape"
   ]
  },
  {
   "cell_type": "code",
   "execution_count": 72,
   "metadata": {},
   "outputs": [],
   "source": [
    "# varc = []\n",
    "# for i in df2.columns:\n",
    "#     try:\n",
    "#         print(i, np.var(df2[i].dropna()))\n",
    "#         varc.append(np.var(df2[i].dropna()))\n",
    "#     except:\n",
    "#         pass"
   ]
  },
  {
   "cell_type": "code",
   "execution_count": 74,
   "metadata": {},
   "outputs": [],
   "source": [
    "# normX2 = preprocessing.MinMaxScaler().fit_transform(X)\n",
    "# df3 = pd.DataFrame(normX2)\n",
    "# df3"
   ]
  },
  {
   "cell_type": "code",
   "execution_count": 76,
   "metadata": {},
   "outputs": [],
   "source": [
    "# v = sorted(varc)\n",
    "# fit = st.norm.pdf(v,np.mean(v),np.std(v))\n",
    "# pl.plot(v,fit,'--')\n",
    "# #pl.hist(v,normed=False)\n",
    "# plt.axvline( (np.mean(v)- 2*(np.std(v)) ))\n",
    "# plt.axvline( (np.mean(v) + 2*(np.std(v)) ))\n",
    "\n",
    "# pl.show()"
   ]
  },
  {
   "cell_type": "code",
   "execution_count": 103,
   "metadata": {},
   "outputs": [],
   "source": [
    "from sklearn.preprocessing import MinMaxScaler\n",
    "scaler= MinMaxScaler()"
   ]
  },
  {
   "cell_type": "code",
   "execution_count": 104,
   "metadata": {},
   "outputs": [
    {
     "data": {
      "text/plain": [
       "array([[0.00283366, 0.06528579, 0.06749311, ..., 0.        , 0.        ,\n",
       "        0.        ],\n",
       "       [0.2065755 , 0.06461467, 0.06749311, ..., 0.        , 0.        ,\n",
       "        0.        ],\n",
       "       [0.00308006, 0.0705109 , 0.06749311, ..., 0.        , 0.        ,\n",
       "        0.        ],\n",
       "       ...,\n",
       "       [0.00828977, 0.06861086, 0.06749311, ..., 0.        , 0.        ,\n",
       "        0.        ],\n",
       "       [0.00869458, 0.06528579, 0.06749311, ..., 0.        , 0.        ,\n",
       "        0.        ],\n",
       "       [0.00828977, 0.06210529, 0.06749311, ..., 0.        , 0.        ,\n",
       "        0.        ]])"
      ]
     },
     "execution_count": 104,
     "metadata": {},
     "output_type": "execute_result"
    }
   ],
   "source": [
    "Xnorm = scaler.fit_transform(X)\n",
    "Xnorm"
   ]
  },
  {
   "cell_type": "code",
   "execution_count": 105,
   "metadata": {},
   "outputs": [
    {
     "data": {
      "text/plain": [
       "(192973, 5)"
      ]
     },
     "execution_count": 105,
     "metadata": {},
     "output_type": "execute_result"
    }
   ],
   "source": [
    "sel = VarianceThreshold(threshold=(.8 * (1 - .8)))\n",
    "Xnew = sel.fit_transform(Xnorm)\n",
    "Xnew.shape"
   ]
  },
  {
   "cell_type": "code",
   "execution_count": 107,
   "metadata": {},
   "outputs": [
    {
     "data": {
      "text/plain": [
       "array([0.00140819, 0.00066231, 0.00285312, 0.0051868 , 0.00536428,\n",
       "       0.05784272, 0.05908873, 0.01535933, 0.01051172, 0.00382428,\n",
       "       0.23586031, 0.22535089, 0.23586031, 0.04990385, 0.23586031,\n",
       "       0.00143369, 0.02427985, 0.00069392, 0.15380079, 0.00121586,\n",
       "       0.03532404, 0.0075699 , 0.01689081, 0.13398495, 0.08747244,\n",
       "       0.08223432, 0.18195363, 0.08966828, 0.01472174, 0.15044132,\n",
       "       0.00515009, 0.11445608])"
      ]
     },
     "execution_count": 107,
     "metadata": {},
     "output_type": "execute_result"
    }
   ],
   "source": [
    "varcs= sel.variances_\n",
    "varcs"
   ]
  },
  {
   "cell_type": "code",
   "execution_count": 16,
   "metadata": {},
   "outputs": [],
   "source": [
    "# for i,x in zip(data.columns, varcs):\n",
    "#     print(i,x)"
   ]
  },
  {
   "cell_type": "code",
   "execution_count": 17,
   "metadata": {},
   "outputs": [],
   "source": [
    "# for i in data.columns:\n",
    "#     print(i, data[i].nunique())"
   ]
  },
  {
   "cell_type": "code",
   "execution_count": 108,
   "metadata": {},
   "outputs": [
    {
     "data": {
      "text/plain": [
       "array([4.54588855e+06, 1.23769847e-01, 6.01524869e+03, 4.06645141e+02,\n",
       "       3.85283931e+02, 7.93163089e+04, 8.10248907e+04, 3.90151567e+03,\n",
       "       3.34373666e+03, 3.42368241e-01, 5.89650360e-04, 2.16868889e-01,\n",
       "       3.77376455e-02, 1.41674253e+02, 2.08405563e-03, 2.07147807e-03,\n",
       "       2.42798536e-02, 6.93915474e-04, 1.53800793e-01, 4.86345538e-03,\n",
       "       1.41296179e-01, 1.21118408e-01, 6.08069032e-01, 1.33984946e-01,\n",
       "       8.74724380e-02, 2.96043550e+00, 7.27814505e-01, 1.43469248e+00,\n",
       "       1.47217401e-02, 6.01765273e-01, 5.15008984e-03, 1.14456076e-01])"
      ]
     },
     "execution_count": 108,
     "metadata": {},
     "output_type": "execute_result"
    }
   ],
   "source": [
    "sel1 = VarianceThreshold(threshold=(.8 * (1 - .8)))\n",
    "Xnew = sel1.fit_transform(X)\n",
    "sel1.variances_"
   ]
  },
  {
   "cell_type": "code",
   "execution_count": 88,
   "metadata": {},
   "outputs": [
    {
     "name": "stdout",
     "output_type": "stream",
     "text": [
      "0 box0.area 4545888.553430329\n",
      "1 box0.aspectratio 0.12376984723077245\n",
      "2 box0.sign_relation_main. 6015.248694820751\n",
      "3 box0.height 406.6451414942504\n",
      "4 box0.width 385.2839305062151\n",
      "5 box0.x0 79316.30889885985\n",
      "6 box0.x1 81024.89070977241\n",
      "7 box0.y0 3901.5156670023703\n",
      "8 box0.y1 3343.736664455582\n",
      "9 vdy.acceleration 0.3423682413299216\n",
      "10 vdy.axisLaodDisr 0.0005896503597598841\n",
      "11 vdy.overhangfront 0.2168688886959591\n",
      "12 vdy.vehicleWidth 0.03773764551831528\n",
      "13 vdy.velocity 141.67425342095103\n",
      "14 vdy.wheelBase 0.002084055632783753\n",
      "15 vdy.yawRate 0.0020714780664889444\n",
      "16 box0.contaminated.val 0.024279853605090707\n",
      "17 box0.disabled.val 0.0006939154737366898\n",
      "18 box0.embedded.val 0.15380079265905358\n",
      "19 box0.flashing.val 0.0048634553782916975\n",
      "20 box0.for_other_road.val 0.14129617857515733\n",
      "21 box0.invalid.val 0.12111840838101508\n",
      "22 box0.lane_distance.val 0.6080690322989916\n",
      "23 box0.on_multi_sign_mounting.val 0.1339849462655915\n",
      "24 box0.twisted.val 0.08747243802511533\n",
      "25 country.val 2.9604355041132875\n",
      "26 light_conditions.val 0.727814505308457\n",
      "27 roadType.val 1.4346924775693721\n",
      "28 road_works.val 0.014721740053339366\n",
      "29 street_conditions.val 0.6017652734028368\n",
      "30 tunnel.val 0.005150089840852824\n",
      "31 weather.val 0.11445607639906524\n"
     ]
    }
   ],
   "source": [
    "varc = []\n",
    "for i, x in enumerate(data.columns):\n",
    "    try:\n",
    "        print(i, x, np.var(data[x].dropna()))\n",
    "        varc.append(np.var(data[x].dropna()))\n",
    "    except:\n",
    "        pass"
   ]
  },
  {
   "cell_type": "code",
   "execution_count": 95,
   "metadata": {},
   "outputs": [],
   "source": [
    "# from sklearn.preprocessing import StandardScaler\n",
    "# scaler= StandardScaler()\n",
    "# Xstd = scaler.fit_transform(X)\n",
    "# sel = VarianceThreshold(threshold=(.8 * (1 - .8)))\n",
    "# Xnew = sel.fit_transform(Xstd)\n",
    "# sel.variances_"
   ]
  },
  {
   "cell_type": "code",
   "execution_count": null,
   "metadata": {},
   "outputs": [],
   "source": []
  },
  {
   "cell_type": "code",
   "execution_count": null,
   "metadata": {},
   "outputs": [],
   "source": []
  },
  {
   "cell_type": "code",
   "execution_count": null,
   "metadata": {},
   "outputs": [],
   "source": []
  },
  {
   "cell_type": "markdown",
   "metadata": {},
   "source": [
    "# Hypothesis Testing"
   ]
  },
  {
   "cell_type": "code",
   "execution_count": 18,
   "metadata": {},
   "outputs": [],
   "source": [
    "med = st.median(df['vdy.velocity'].dropna().values)\n",
    "med"
   ]
  },
  {
   "cell_type": "code",
   "execution_count": 19,
   "metadata": {},
   "outputs": [],
   "source": [
    "iqr = spst.iqr(df['vdy.velocity'].dropna().values)\n",
    "l1,l2,l3,l4 ,l5= iqr , iqr*0.25 , med- (iqr*0.25) , med+ (iqr*0.25) , med\n",
    "l1, l2, l3, l4 , l5\n"
   ]
  },
  {
   "cell_type": "code",
   "execution_count": 20,
   "metadata": {},
   "outputs": [],
   "source": [
    "q1 = vels[(vels <= l3)]\n",
    "q2 = vels[(vels > l3) & (vels <= l4)]\n",
    "q3 = vels[(vels > l4)]"
   ]
  },
  {
   "cell_type": "code",
   "execution_count": 6,
   "metadata": {},
   "outputs": [
    {
     "ename": "NameError",
     "evalue": "name 'q1' is not defined",
     "output_type": "error",
     "traceback": [
      "\u001b[0;31m---------------------------------------------------------------------------\u001b[0m",
      "\u001b[0;31mNameError\u001b[0m                                 Traceback (most recent call last)",
      "\u001b[0;32m<ipython-input-6-aaac69b462a6>\u001b[0m in \u001b[0;36m<module>\u001b[0;34m()\u001b[0m\n\u001b[0;32m----> 1\u001b[0;31m \u001b[0mlen\u001b[0m\u001b[0;34m(\u001b[0m\u001b[0mq1\u001b[0m\u001b[0;34m)\u001b[0m\u001b[0;34m,\u001b[0m\u001b[0mlen\u001b[0m\u001b[0;34m(\u001b[0m\u001b[0mq2\u001b[0m\u001b[0;34m)\u001b[0m\u001b[0;34m,\u001b[0m\u001b[0mlen\u001b[0m\u001b[0;34m(\u001b[0m\u001b[0mq3\u001b[0m\u001b[0;34m)\u001b[0m\u001b[0;34m,\u001b[0m \u001b[0mlen\u001b[0m\u001b[0;34m(\u001b[0m\u001b[0mq1\u001b[0m\u001b[0;34m)\u001b[0m \u001b[0;34m+\u001b[0m\u001b[0mlen\u001b[0m\u001b[0;34m(\u001b[0m\u001b[0mq2\u001b[0m\u001b[0;34m)\u001b[0m\u001b[0;34m+\u001b[0m\u001b[0mlen\u001b[0m\u001b[0;34m(\u001b[0m\u001b[0mq3\u001b[0m\u001b[0;34m)\u001b[0m\u001b[0;34m\u001b[0m\u001b[0m\n\u001b[0m",
      "\u001b[0;31mNameError\u001b[0m: name 'q1' is not defined"
     ]
    }
   ],
   "source": [
    "len(q1),len(q2),len(q3), len(q1) +len(q2)+len(q3)"
   ]
  },
  {
   "cell_type": "code",
   "execution_count": 7,
   "metadata": {},
   "outputs": [
    {
     "ename": "NameError",
     "evalue": "name 'spst' is not defined",
     "output_type": "error",
     "traceback": [
      "\u001b[0;31m---------------------------------------------------------------------------\u001b[0m",
      "\u001b[0;31mNameError\u001b[0m                                 Traceback (most recent call last)",
      "\u001b[0;32m<ipython-input-7-59718e5616cf>\u001b[0m in \u001b[0;36m<module>\u001b[0;34m()\u001b[0m\n\u001b[0;32m----> 1\u001b[0;31m \u001b[0mspst\u001b[0m\u001b[0;34m.\u001b[0m\u001b[0mttest_ind\u001b[0m\u001b[0;34m(\u001b[0m\u001b[0ma\u001b[0m\u001b[0;34m=\u001b[0m\u001b[0mq1\u001b[0m\u001b[0;34m,\u001b[0m \u001b[0mb\u001b[0m\u001b[0;34m=\u001b[0m\u001b[0mq2\u001b[0m\u001b[0;34m,\u001b[0m \u001b[0mequal_var\u001b[0m\u001b[0;34m=\u001b[0m \u001b[0;32mFalse\u001b[0m\u001b[0;34m)\u001b[0m\u001b[0;34m\u001b[0m\u001b[0m\n\u001b[0m",
      "\u001b[0;31mNameError\u001b[0m: name 'spst' is not defined"
     ]
    }
   ],
   "source": [
    "spst.ttest_ind(a=q1, b=q2, equal_var= False)"
   ]
  },
  {
   "cell_type": "code",
   "execution_count": 8,
   "metadata": {},
   "outputs": [
    {
     "ename": "NameError",
     "evalue": "name 'spst' is not defined",
     "output_type": "error",
     "traceback": [
      "\u001b[0;31m---------------------------------------------------------------------------\u001b[0m",
      "\u001b[0;31mNameError\u001b[0m                                 Traceback (most recent call last)",
      "\u001b[0;32m<ipython-input-8-1101df661c92>\u001b[0m in \u001b[0;36m<module>\u001b[0;34m()\u001b[0m\n\u001b[0;32m----> 1\u001b[0;31m \u001b[0mspst\u001b[0m\u001b[0;34m.\u001b[0m\u001b[0mttest_ind\u001b[0m\u001b[0;34m(\u001b[0m\u001b[0ma\u001b[0m\u001b[0;34m=\u001b[0m\u001b[0mq1\u001b[0m\u001b[0;34m,\u001b[0m \u001b[0mb\u001b[0m\u001b[0;34m=\u001b[0m\u001b[0mq1\u001b[0m\u001b[0;34m,\u001b[0m \u001b[0mequal_var\u001b[0m\u001b[0;34m=\u001b[0m \u001b[0;32mFalse\u001b[0m\u001b[0;34m)\u001b[0m\u001b[0;34m\u001b[0m\u001b[0m\n\u001b[0m",
      "\u001b[0;31mNameError\u001b[0m: name 'spst' is not defined"
     ]
    }
   ],
   "source": [
    "spst.ttest_ind(a=q1, b=q1, equal_var= False)"
   ]
  },
  {
   "cell_type": "code",
   "execution_count": 9,
   "metadata": {},
   "outputs": [
    {
     "ename": "NameError",
     "evalue": "name 'spst' is not defined",
     "output_type": "error",
     "traceback": [
      "\u001b[0;31m---------------------------------------------------------------------------\u001b[0m",
      "\u001b[0;31mNameError\u001b[0m                                 Traceback (most recent call last)",
      "\u001b[0;32m<ipython-input-9-e4bded794597>\u001b[0m in \u001b[0;36m<module>\u001b[0;34m()\u001b[0m\n\u001b[0;32m----> 1\u001b[0;31m \u001b[0mspst\u001b[0m\u001b[0;34m.\u001b[0m\u001b[0mttest_ind\u001b[0m\u001b[0;34m(\u001b[0m\u001b[0ma\u001b[0m\u001b[0;34m=\u001b[0m\u001b[0mq2\u001b[0m\u001b[0;34m,\u001b[0m \u001b[0mb\u001b[0m\u001b[0;34m=\u001b[0m\u001b[0mq3\u001b[0m\u001b[0;34m,\u001b[0m \u001b[0mequal_var\u001b[0m\u001b[0;34m=\u001b[0m \u001b[0;32mFalse\u001b[0m\u001b[0;34m)\u001b[0m\u001b[0;34m\u001b[0m\u001b[0m\n\u001b[0m",
      "\u001b[0;31mNameError\u001b[0m: name 'spst' is not defined"
     ]
    }
   ],
   "source": [
    "spst.ttest_ind(a=q2, b=q3, equal_var= False)"
   ]
  },
  {
   "cell_type": "code",
   "execution_count": null,
   "metadata": {},
   "outputs": [],
   "source": []
  }
 ],
 "metadata": {
  "kernelspec": {
   "display_name": "Python 3",
   "language": "python",
   "name": "python3"
  },
  "language_info": {
   "codemirror_mode": {
    "name": "ipython",
    "version": 3
   },
   "file_extension": ".py",
   "mimetype": "text/x-python",
   "name": "python",
   "nbconvert_exporter": "python",
   "pygments_lexer": "ipython3",
   "version": "3.8.5"
  }
 },
 "nbformat": 4,
 "nbformat_minor": 2
}
