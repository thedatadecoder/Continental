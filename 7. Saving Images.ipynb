{
 "cells": [
  {
   "cell_type": "code",
   "execution_count": 6,
   "metadata": {},
   "outputs": [],
   "source": [
    "host= ''\n",
    "port= 0\n",
    "username= False \n",
    "password= False \n",
    "db_name = 'Labels'\n",
    "collection_name = 'Latest'\n",
    "no_id=True\n"
   ]
  },
  {
   "cell_type": "code",
   "execution_count": 5,
   "metadata": {},
   "outputs": [],
   "source": [
    "import pymongo\n",
    "client= pymongo.MongoClient(host,port)\n",
    "dataBase=client['Labels']\n",
    "collection= dataBase['Shape_Labels_5_Classes']\n",
    "content=collection.find({},{'image.raw.hash':1})"
   ]
  },
  {
   "cell_type": "code",
   "execution_count": null,
   "metadata": {},
   "outputs": [],
   "source": []
  },
  {
   "cell_type": "code",
   "execution_count": 1,
   "metadata": {},
   "outputs": [],
   "source": [
    "# import pandas as pd\n",
    "# df = pd.read_csv(r'D:\\Amar_data_analysis\\Image.Hash.values.csv')\n",
    "# df"
   ]
  },
  {
   "cell_type": "code",
   "execution_count": 2,
   "metadata": {},
   "outputs": [],
   "source": [
    "# new = df.dropna()\n",
    "# new"
   ]
  },
  {
   "cell_type": "code",
   "execution_count": 20,
   "metadata": {},
   "outputs": [],
   "source": [
    "hashkeys = []\n",
    "for i in new['image.raw.hash']:\n",
    "    hashkeys.append(i)"
   ]
  },
  {
   "cell_type": "code",
   "execution_count": 3,
   "metadata": {},
   "outputs": [],
   "source": [
    "# hashkeys"
   ]
  },
  {
   "cell_type": "code",
   "execution_count": null,
   "metadata": {},
   "outputs": [],
   "source": [
    "# Delete the _id\n",
    "'''if no_id:\n",
    "    del df['_id']'''"
   ]
  },
  {
   "cell_type": "code",
   "execution_count": 10,
   "metadata": {},
   "outputs": [],
   "source": [
    "'''queries = []\n",
    "for i in content:\n",
    "    queries.append(i)'''"
   ]
  },
  {
   "cell_type": "code",
   "execution_count": 2,
   "metadata": {},
   "outputs": [],
   "source": [
    "from pymongo import MongoClient\n",
    "import pprint\n",
    "from bson.son import SON\n",
    "\n",
    "client = MongoClient(host,port)\n",
    "db = client['Labels']\n",
    "collection = db['Latest']\n",
    "\n"
   ]
  },
  {
   "cell_type": "code",
   "execution_count": 4,
   "metadata": {},
   "outputs": [],
   "source": [
    "import numpy as np\n",
    "\n",
    "from gridfs import GridFS\n",
    "\n",
    "from PIL import Image as pil\n",
    "\n",
    "from io import BytesIO\n",
    "\n",
    "import scipy.misc\n",
    "\n",
    "import pickle\n",
    "for i in hashkeys:\n",
    "    \n",
    "\n",
    "    fs = GridFS(db,'image_data')\n",
    "\n",
    "    ImageData = np.asarray(pil.open(BytesIO(fs.get(i).read()))).astype(np.uint32)\n",
    "\n",
    "    scipy.misc.imsave('D:\\\\'+i+'.jpg', ImageData)\n",
    "\n"
   ]
  },
  {
   "cell_type": "code",
   "execution_count": null,
   "metadata": {},
   "outputs": [],
   "source": []
  }
 ],
 "metadata": {
  "kernelspec": {
   "display_name": "Python 3",
   "language": "python",
   "name": "python3"
  },
  "language_info": {
   "codemirror_mode": {
    "name": "ipython",
    "version": 3
   },
   "file_extension": ".py",
   "mimetype": "text/x-python",
   "name": "python",
   "nbconvert_exporter": "python",
   "pygments_lexer": "ipython3",
   "version": "3.8.5"
  }
 },
 "nbformat": 4,
 "nbformat_minor": 2
}
